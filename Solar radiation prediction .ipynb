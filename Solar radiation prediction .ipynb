{
 "cells": [
  {
   "cell_type": "code",
   "execution_count": 1,
   "id": "830fd7a9",
   "metadata": {},
   "outputs": [],
   "source": [
    "import numpy as np \n",
    "import pandas as pd\n",
    "import seaborn as sns\n",
    "import matplotlib.pyplot as plt"
   ]
  },
  {
   "cell_type": "markdown",
   "id": "d671970c",
   "metadata": {},
   "source": [
    "# Exploratory Data analysis "
   ]
  },
  {
   "cell_type": "code",
   "execution_count": 2,
   "id": "bde50de7",
   "metadata": {},
   "outputs": [
    {
     "data": {
      "text/html": [
       "<div>\n",
       "<style scoped>\n",
       "    .dataframe tbody tr th:only-of-type {\n",
       "        vertical-align: middle;\n",
       "    }\n",
       "\n",
       "    .dataframe tbody tr th {\n",
       "        vertical-align: top;\n",
       "    }\n",
       "\n",
       "    .dataframe thead th {\n",
       "        text-align: right;\n",
       "    }\n",
       "</style>\n",
       "<table border=\"1\" class=\"dataframe\">\n",
       "  <thead>\n",
       "    <tr style=\"text-align: right;\">\n",
       "      <th></th>\n",
       "      <th>UNIXTime</th>\n",
       "      <th>Data</th>\n",
       "      <th>Time</th>\n",
       "      <th>Radiation</th>\n",
       "      <th>Temperature</th>\n",
       "      <th>Pressure</th>\n",
       "      <th>Humidity</th>\n",
       "      <th>WindDirection(Degrees)</th>\n",
       "      <th>Speed</th>\n",
       "      <th>TimeSunRise</th>\n",
       "      <th>TimeSunSet</th>\n",
       "    </tr>\n",
       "  </thead>\n",
       "  <tbody>\n",
       "    <tr>\n",
       "      <th>0</th>\n",
       "      <td>1475229326</td>\n",
       "      <td>9/29/2016 12:00:00 AM</td>\n",
       "      <td>23:55:26</td>\n",
       "      <td>1.21</td>\n",
       "      <td>48</td>\n",
       "      <td>30.46</td>\n",
       "      <td>59</td>\n",
       "      <td>177.39</td>\n",
       "      <td>5.62</td>\n",
       "      <td>06:13:00</td>\n",
       "      <td>18:13:00</td>\n",
       "    </tr>\n",
       "    <tr>\n",
       "      <th>1</th>\n",
       "      <td>1475229023</td>\n",
       "      <td>9/29/2016 12:00:00 AM</td>\n",
       "      <td>23:50:23</td>\n",
       "      <td>1.21</td>\n",
       "      <td>48</td>\n",
       "      <td>30.46</td>\n",
       "      <td>58</td>\n",
       "      <td>176.78</td>\n",
       "      <td>3.37</td>\n",
       "      <td>06:13:00</td>\n",
       "      <td>18:13:00</td>\n",
       "    </tr>\n",
       "    <tr>\n",
       "      <th>2</th>\n",
       "      <td>1475228726</td>\n",
       "      <td>9/29/2016 12:00:00 AM</td>\n",
       "      <td>23:45:26</td>\n",
       "      <td>1.23</td>\n",
       "      <td>48</td>\n",
       "      <td>30.46</td>\n",
       "      <td>57</td>\n",
       "      <td>158.75</td>\n",
       "      <td>3.37</td>\n",
       "      <td>06:13:00</td>\n",
       "      <td>18:13:00</td>\n",
       "    </tr>\n",
       "    <tr>\n",
       "      <th>3</th>\n",
       "      <td>1475228421</td>\n",
       "      <td>9/29/2016 12:00:00 AM</td>\n",
       "      <td>23:40:21</td>\n",
       "      <td>1.21</td>\n",
       "      <td>48</td>\n",
       "      <td>30.46</td>\n",
       "      <td>60</td>\n",
       "      <td>137.71</td>\n",
       "      <td>3.37</td>\n",
       "      <td>06:13:00</td>\n",
       "      <td>18:13:00</td>\n",
       "    </tr>\n",
       "    <tr>\n",
       "      <th>4</th>\n",
       "      <td>1475228124</td>\n",
       "      <td>9/29/2016 12:00:00 AM</td>\n",
       "      <td>23:35:24</td>\n",
       "      <td>1.17</td>\n",
       "      <td>48</td>\n",
       "      <td>30.46</td>\n",
       "      <td>62</td>\n",
       "      <td>104.95</td>\n",
       "      <td>5.62</td>\n",
       "      <td>06:13:00</td>\n",
       "      <td>18:13:00</td>\n",
       "    </tr>\n",
       "  </tbody>\n",
       "</table>\n",
       "</div>"
      ],
      "text/plain": [
       "     UNIXTime                   Data      Time  Radiation  Temperature  \\\n",
       "0  1475229326  9/29/2016 12:00:00 AM  23:55:26       1.21           48   \n",
       "1  1475229023  9/29/2016 12:00:00 AM  23:50:23       1.21           48   \n",
       "2  1475228726  9/29/2016 12:00:00 AM  23:45:26       1.23           48   \n",
       "3  1475228421  9/29/2016 12:00:00 AM  23:40:21       1.21           48   \n",
       "4  1475228124  9/29/2016 12:00:00 AM  23:35:24       1.17           48   \n",
       "\n",
       "   Pressure  Humidity  WindDirection(Degrees)  Speed TimeSunRise TimeSunSet  \n",
       "0     30.46        59                  177.39   5.62    06:13:00   18:13:00  \n",
       "1     30.46        58                  176.78   3.37    06:13:00   18:13:00  \n",
       "2     30.46        57                  158.75   3.37    06:13:00   18:13:00  \n",
       "3     30.46        60                  137.71   3.37    06:13:00   18:13:00  \n",
       "4     30.46        62                  104.95   5.62    06:13:00   18:13:00  "
      ]
     },
     "execution_count": 2,
     "metadata": {},
     "output_type": "execute_result"
    }
   ],
   "source": [
    "solar_data=pd.read_csv(r\"C:\\Users\\ABC\\Documents\\Dhrumil\\ML & AI\\SolarPrediction.csv\")\n",
    "solar_data.head()"
   ]
  },
  {
   "cell_type": "code",
   "execution_count": 3,
   "id": "52aaa730",
   "metadata": {},
   "outputs": [
    {
     "data": {
      "text/html": [
       "<div>\n",
       "<style scoped>\n",
       "    .dataframe tbody tr th:only-of-type {\n",
       "        vertical-align: middle;\n",
       "    }\n",
       "\n",
       "    .dataframe tbody tr th {\n",
       "        vertical-align: top;\n",
       "    }\n",
       "\n",
       "    .dataframe thead th {\n",
       "        text-align: right;\n",
       "    }\n",
       "</style>\n",
       "<table border=\"1\" class=\"dataframe\">\n",
       "  <thead>\n",
       "    <tr style=\"text-align: right;\">\n",
       "      <th></th>\n",
       "      <th>UNIXTime</th>\n",
       "      <th>Data</th>\n",
       "      <th>Time</th>\n",
       "      <th>Radiation</th>\n",
       "      <th>Temperature</th>\n",
       "      <th>Pressure</th>\n",
       "      <th>Humidity</th>\n",
       "      <th>WindDirection(Degrees)</th>\n",
       "      <th>Speed</th>\n",
       "      <th>TimeSunRise</th>\n",
       "      <th>TimeSunSet</th>\n",
       "    </tr>\n",
       "  </thead>\n",
       "  <tbody>\n",
       "    <tr>\n",
       "      <th>32681</th>\n",
       "      <td>1480587604</td>\n",
       "      <td>12/1/2016 12:00:00 AM</td>\n",
       "      <td>00:20:04</td>\n",
       "      <td>1.22</td>\n",
       "      <td>44</td>\n",
       "      <td>30.43</td>\n",
       "      <td>102</td>\n",
       "      <td>145.42</td>\n",
       "      <td>6.75</td>\n",
       "      <td>06:41:00</td>\n",
       "      <td>17:42:00</td>\n",
       "    </tr>\n",
       "    <tr>\n",
       "      <th>32682</th>\n",
       "      <td>1480587301</td>\n",
       "      <td>12/1/2016 12:00:00 AM</td>\n",
       "      <td>00:15:01</td>\n",
       "      <td>1.17</td>\n",
       "      <td>44</td>\n",
       "      <td>30.42</td>\n",
       "      <td>102</td>\n",
       "      <td>117.78</td>\n",
       "      <td>6.75</td>\n",
       "      <td>06:41:00</td>\n",
       "      <td>17:42:00</td>\n",
       "    </tr>\n",
       "    <tr>\n",
       "      <th>32683</th>\n",
       "      <td>1480587001</td>\n",
       "      <td>12/1/2016 12:00:00 AM</td>\n",
       "      <td>00:10:01</td>\n",
       "      <td>1.20</td>\n",
       "      <td>44</td>\n",
       "      <td>30.42</td>\n",
       "      <td>102</td>\n",
       "      <td>145.19</td>\n",
       "      <td>9.00</td>\n",
       "      <td>06:41:00</td>\n",
       "      <td>17:42:00</td>\n",
       "    </tr>\n",
       "    <tr>\n",
       "      <th>32684</th>\n",
       "      <td>1480586702</td>\n",
       "      <td>12/1/2016 12:00:00 AM</td>\n",
       "      <td>00:05:02</td>\n",
       "      <td>1.23</td>\n",
       "      <td>44</td>\n",
       "      <td>30.42</td>\n",
       "      <td>101</td>\n",
       "      <td>164.19</td>\n",
       "      <td>7.87</td>\n",
       "      <td>06:41:00</td>\n",
       "      <td>17:42:00</td>\n",
       "    </tr>\n",
       "    <tr>\n",
       "      <th>32685</th>\n",
       "      <td>1480586402</td>\n",
       "      <td>12/1/2016 12:00:00 AM</td>\n",
       "      <td>00:00:02</td>\n",
       "      <td>1.20</td>\n",
       "      <td>44</td>\n",
       "      <td>30.43</td>\n",
       "      <td>101</td>\n",
       "      <td>83.59</td>\n",
       "      <td>3.37</td>\n",
       "      <td>06:41:00</td>\n",
       "      <td>17:42:00</td>\n",
       "    </tr>\n",
       "  </tbody>\n",
       "</table>\n",
       "</div>"
      ],
      "text/plain": [
       "         UNIXTime                   Data      Time  Radiation  Temperature  \\\n",
       "32681  1480587604  12/1/2016 12:00:00 AM  00:20:04       1.22           44   \n",
       "32682  1480587301  12/1/2016 12:00:00 AM  00:15:01       1.17           44   \n",
       "32683  1480587001  12/1/2016 12:00:00 AM  00:10:01       1.20           44   \n",
       "32684  1480586702  12/1/2016 12:00:00 AM  00:05:02       1.23           44   \n",
       "32685  1480586402  12/1/2016 12:00:00 AM  00:00:02       1.20           44   \n",
       "\n",
       "       Pressure  Humidity  WindDirection(Degrees)  Speed TimeSunRise  \\\n",
       "32681     30.43       102                  145.42   6.75    06:41:00   \n",
       "32682     30.42       102                  117.78   6.75    06:41:00   \n",
       "32683     30.42       102                  145.19   9.00    06:41:00   \n",
       "32684     30.42       101                  164.19   7.87    06:41:00   \n",
       "32685     30.43       101                   83.59   3.37    06:41:00   \n",
       "\n",
       "      TimeSunSet  \n",
       "32681   17:42:00  \n",
       "32682   17:42:00  \n",
       "32683   17:42:00  \n",
       "32684   17:42:00  \n",
       "32685   17:42:00  "
      ]
     },
     "execution_count": 3,
     "metadata": {},
     "output_type": "execute_result"
    }
   ],
   "source": [
    "solar_data.tail()"
   ]
  },
  {
   "cell_type": "code",
   "execution_count": 4,
   "id": "44854720",
   "metadata": {},
   "outputs": [
    {
     "data": {
      "text/plain": [
       "(32686, 11)"
      ]
     },
     "execution_count": 4,
     "metadata": {},
     "output_type": "execute_result"
    }
   ],
   "source": [
    "solar_data.shape"
   ]
  },
  {
   "cell_type": "code",
   "execution_count": 5,
   "id": "fa0c856a",
   "metadata": {},
   "outputs": [
    {
     "data": {
      "text/html": [
       "<div>\n",
       "<style scoped>\n",
       "    .dataframe tbody tr th:only-of-type {\n",
       "        vertical-align: middle;\n",
       "    }\n",
       "\n",
       "    .dataframe tbody tr th {\n",
       "        vertical-align: top;\n",
       "    }\n",
       "\n",
       "    .dataframe thead th {\n",
       "        text-align: right;\n",
       "    }\n",
       "</style>\n",
       "<table border=\"1\" class=\"dataframe\">\n",
       "  <thead>\n",
       "    <tr style=\"text-align: right;\">\n",
       "      <th></th>\n",
       "      <th>UNIXTime</th>\n",
       "      <th>Radiation</th>\n",
       "      <th>Temperature</th>\n",
       "      <th>Pressure</th>\n",
       "      <th>Humidity</th>\n",
       "      <th>WindDirection(Degrees)</th>\n",
       "      <th>Speed</th>\n",
       "    </tr>\n",
       "  </thead>\n",
       "  <tbody>\n",
       "    <tr>\n",
       "      <th>count</th>\n",
       "      <td>3.268600e+04</td>\n",
       "      <td>32686.000000</td>\n",
       "      <td>32686.000000</td>\n",
       "      <td>32686.000000</td>\n",
       "      <td>32686.000000</td>\n",
       "      <td>32686.000000</td>\n",
       "      <td>32686.000000</td>\n",
       "    </tr>\n",
       "    <tr>\n",
       "      <th>mean</th>\n",
       "      <td>1.478047e+09</td>\n",
       "      <td>207.124697</td>\n",
       "      <td>51.103255</td>\n",
       "      <td>30.422879</td>\n",
       "      <td>75.016307</td>\n",
       "      <td>143.489821</td>\n",
       "      <td>6.243869</td>\n",
       "    </tr>\n",
       "    <tr>\n",
       "      <th>std</th>\n",
       "      <td>3.005037e+06</td>\n",
       "      <td>315.916387</td>\n",
       "      <td>6.201157</td>\n",
       "      <td>0.054673</td>\n",
       "      <td>25.990219</td>\n",
       "      <td>83.167500</td>\n",
       "      <td>3.490474</td>\n",
       "    </tr>\n",
       "    <tr>\n",
       "      <th>min</th>\n",
       "      <td>1.472724e+09</td>\n",
       "      <td>1.110000</td>\n",
       "      <td>34.000000</td>\n",
       "      <td>30.190000</td>\n",
       "      <td>8.000000</td>\n",
       "      <td>0.090000</td>\n",
       "      <td>0.000000</td>\n",
       "    </tr>\n",
       "    <tr>\n",
       "      <th>25%</th>\n",
       "      <td>1.475546e+09</td>\n",
       "      <td>1.230000</td>\n",
       "      <td>46.000000</td>\n",
       "      <td>30.400000</td>\n",
       "      <td>56.000000</td>\n",
       "      <td>82.227500</td>\n",
       "      <td>3.370000</td>\n",
       "    </tr>\n",
       "    <tr>\n",
       "      <th>50%</th>\n",
       "      <td>1.478026e+09</td>\n",
       "      <td>2.660000</td>\n",
       "      <td>50.000000</td>\n",
       "      <td>30.430000</td>\n",
       "      <td>85.000000</td>\n",
       "      <td>147.700000</td>\n",
       "      <td>5.620000</td>\n",
       "    </tr>\n",
       "    <tr>\n",
       "      <th>75%</th>\n",
       "      <td>1.480480e+09</td>\n",
       "      <td>354.235000</td>\n",
       "      <td>55.000000</td>\n",
       "      <td>30.460000</td>\n",
       "      <td>97.000000</td>\n",
       "      <td>179.310000</td>\n",
       "      <td>7.870000</td>\n",
       "    </tr>\n",
       "    <tr>\n",
       "      <th>max</th>\n",
       "      <td>1.483265e+09</td>\n",
       "      <td>1601.260000</td>\n",
       "      <td>71.000000</td>\n",
       "      <td>30.560000</td>\n",
       "      <td>103.000000</td>\n",
       "      <td>359.950000</td>\n",
       "      <td>40.500000</td>\n",
       "    </tr>\n",
       "  </tbody>\n",
       "</table>\n",
       "</div>"
      ],
      "text/plain": [
       "           UNIXTime     Radiation   Temperature      Pressure      Humidity  \\\n",
       "count  3.268600e+04  32686.000000  32686.000000  32686.000000  32686.000000   \n",
       "mean   1.478047e+09    207.124697     51.103255     30.422879     75.016307   \n",
       "std    3.005037e+06    315.916387      6.201157      0.054673     25.990219   \n",
       "min    1.472724e+09      1.110000     34.000000     30.190000      8.000000   \n",
       "25%    1.475546e+09      1.230000     46.000000     30.400000     56.000000   \n",
       "50%    1.478026e+09      2.660000     50.000000     30.430000     85.000000   \n",
       "75%    1.480480e+09    354.235000     55.000000     30.460000     97.000000   \n",
       "max    1.483265e+09   1601.260000     71.000000     30.560000    103.000000   \n",
       "\n",
       "       WindDirection(Degrees)         Speed  \n",
       "count            32686.000000  32686.000000  \n",
       "mean               143.489821      6.243869  \n",
       "std                 83.167500      3.490474  \n",
       "min                  0.090000      0.000000  \n",
       "25%                 82.227500      3.370000  \n",
       "50%                147.700000      5.620000  \n",
       "75%                179.310000      7.870000  \n",
       "max                359.950000     40.500000  "
      ]
     },
     "execution_count": 5,
     "metadata": {},
     "output_type": "execute_result"
    }
   ],
   "source": [
    "solar_data.describe()"
   ]
  },
  {
   "cell_type": "code",
   "execution_count": 6,
   "id": "bfd53699",
   "metadata": {},
   "outputs": [
    {
     "data": {
      "text/html": [
       "<div>\n",
       "<style scoped>\n",
       "    .dataframe tbody tr th:only-of-type {\n",
       "        vertical-align: middle;\n",
       "    }\n",
       "\n",
       "    .dataframe tbody tr th {\n",
       "        vertical-align: top;\n",
       "    }\n",
       "\n",
       "    .dataframe thead th {\n",
       "        text-align: right;\n",
       "    }\n",
       "</style>\n",
       "<table border=\"1\" class=\"dataframe\">\n",
       "  <thead>\n",
       "    <tr style=\"text-align: right;\">\n",
       "      <th></th>\n",
       "      <th>Data</th>\n",
       "      <th>Time</th>\n",
       "      <th>Radiation</th>\n",
       "      <th>Temperature</th>\n",
       "      <th>Pressure</th>\n",
       "      <th>Humidity</th>\n",
       "      <th>WindDirection(Degrees)</th>\n",
       "      <th>Speed</th>\n",
       "      <th>TimeSunRise</th>\n",
       "      <th>TimeSunSet</th>\n",
       "    </tr>\n",
       "  </thead>\n",
       "  <tbody>\n",
       "    <tr>\n",
       "      <th>0</th>\n",
       "      <td>9/29/2016 12:00:00 AM</td>\n",
       "      <td>23:55:26</td>\n",
       "      <td>1.21</td>\n",
       "      <td>48</td>\n",
       "      <td>30.46</td>\n",
       "      <td>59</td>\n",
       "      <td>177.39</td>\n",
       "      <td>5.62</td>\n",
       "      <td>06:13:00</td>\n",
       "      <td>18:13:00</td>\n",
       "    </tr>\n",
       "    <tr>\n",
       "      <th>1</th>\n",
       "      <td>9/29/2016 12:00:00 AM</td>\n",
       "      <td>23:50:23</td>\n",
       "      <td>1.21</td>\n",
       "      <td>48</td>\n",
       "      <td>30.46</td>\n",
       "      <td>58</td>\n",
       "      <td>176.78</td>\n",
       "      <td>3.37</td>\n",
       "      <td>06:13:00</td>\n",
       "      <td>18:13:00</td>\n",
       "    </tr>\n",
       "    <tr>\n",
       "      <th>2</th>\n",
       "      <td>9/29/2016 12:00:00 AM</td>\n",
       "      <td>23:45:26</td>\n",
       "      <td>1.23</td>\n",
       "      <td>48</td>\n",
       "      <td>30.46</td>\n",
       "      <td>57</td>\n",
       "      <td>158.75</td>\n",
       "      <td>3.37</td>\n",
       "      <td>06:13:00</td>\n",
       "      <td>18:13:00</td>\n",
       "    </tr>\n",
       "    <tr>\n",
       "      <th>3</th>\n",
       "      <td>9/29/2016 12:00:00 AM</td>\n",
       "      <td>23:40:21</td>\n",
       "      <td>1.21</td>\n",
       "      <td>48</td>\n",
       "      <td>30.46</td>\n",
       "      <td>60</td>\n",
       "      <td>137.71</td>\n",
       "      <td>3.37</td>\n",
       "      <td>06:13:00</td>\n",
       "      <td>18:13:00</td>\n",
       "    </tr>\n",
       "    <tr>\n",
       "      <th>4</th>\n",
       "      <td>9/29/2016 12:00:00 AM</td>\n",
       "      <td>23:35:24</td>\n",
       "      <td>1.17</td>\n",
       "      <td>48</td>\n",
       "      <td>30.46</td>\n",
       "      <td>62</td>\n",
       "      <td>104.95</td>\n",
       "      <td>5.62</td>\n",
       "      <td>06:13:00</td>\n",
       "      <td>18:13:00</td>\n",
       "    </tr>\n",
       "  </tbody>\n",
       "</table>\n",
       "</div>"
      ],
      "text/plain": [
       "                    Data      Time  Radiation  Temperature  Pressure  \\\n",
       "0  9/29/2016 12:00:00 AM  23:55:26       1.21           48     30.46   \n",
       "1  9/29/2016 12:00:00 AM  23:50:23       1.21           48     30.46   \n",
       "2  9/29/2016 12:00:00 AM  23:45:26       1.23           48     30.46   \n",
       "3  9/29/2016 12:00:00 AM  23:40:21       1.21           48     30.46   \n",
       "4  9/29/2016 12:00:00 AM  23:35:24       1.17           48     30.46   \n",
       "\n",
       "   Humidity  WindDirection(Degrees)  Speed TimeSunRise TimeSunSet  \n",
       "0        59                  177.39   5.62    06:13:00   18:13:00  \n",
       "1        58                  176.78   3.37    06:13:00   18:13:00  \n",
       "2        57                  158.75   3.37    06:13:00   18:13:00  \n",
       "3        60                  137.71   3.37    06:13:00   18:13:00  \n",
       "4        62                  104.95   5.62    06:13:00   18:13:00  "
      ]
     },
     "execution_count": 6,
     "metadata": {},
     "output_type": "execute_result"
    }
   ],
   "source": [
    "sd=solar_data.drop(['UNIXTime'],axis=1)\n",
    "sd.head()"
   ]
  },
  {
   "cell_type": "code",
   "execution_count": 7,
   "id": "45fb2447",
   "metadata": {},
   "outputs": [
    {
     "data": {
      "text/plain": [
       "Data                       object\n",
       "Time                       object\n",
       "Radiation                 float64\n",
       "Temperature                 int64\n",
       "Pressure                  float64\n",
       "Humidity                    int64\n",
       "WindDirection(Degrees)    float64\n",
       "Speed                     float64\n",
       "TimeSunRise                object\n",
       "TimeSunSet                 object\n",
       "dtype: object"
      ]
     },
     "execution_count": 7,
     "metadata": {},
     "output_type": "execute_result"
    }
   ],
   "source": [
    "sd.dtypes\n"
   ]
  },
  {
   "cell_type": "code",
   "execution_count": 9,
   "id": "d2e23b84",
   "metadata": {},
   "outputs": [],
   "source": [
    "#Converting the data type of the sunrise time and sunset time\n",
    "sd['TimeSunRise']=pd.to_datetime(sd['TimeSunRise'],format='%H:%M:%S')\n",
    "sd['TimeSunSet']=pd.to_datetime(sd['TimeSunSet'],format='%H:%M:%S')\n"
   ]
  },
  {
   "cell_type": "code",
   "execution_count": 10,
   "id": "99493dc6",
   "metadata": {},
   "outputs": [
    {
     "data": {
      "text/html": [
       "<div>\n",
       "<style scoped>\n",
       "    .dataframe tbody tr th:only-of-type {\n",
       "        vertical-align: middle;\n",
       "    }\n",
       "\n",
       "    .dataframe tbody tr th {\n",
       "        vertical-align: top;\n",
       "    }\n",
       "\n",
       "    .dataframe thead th {\n",
       "        text-align: right;\n",
       "    }\n",
       "</style>\n",
       "<table border=\"1\" class=\"dataframe\">\n",
       "  <thead>\n",
       "    <tr style=\"text-align: right;\">\n",
       "      <th></th>\n",
       "      <th>Data</th>\n",
       "      <th>Time</th>\n",
       "      <th>Radiation</th>\n",
       "      <th>Temperature</th>\n",
       "      <th>Pressure</th>\n",
       "      <th>Humidity</th>\n",
       "      <th>WindDirection(Degrees)</th>\n",
       "      <th>Speed</th>\n",
       "      <th>TimeSunRise</th>\n",
       "      <th>TimeSunSet</th>\n",
       "    </tr>\n",
       "  </thead>\n",
       "  <tbody>\n",
       "    <tr>\n",
       "      <th>0</th>\n",
       "      <td>9/29/2016 12:00:00 AM</td>\n",
       "      <td>23:55:26</td>\n",
       "      <td>1.21</td>\n",
       "      <td>48</td>\n",
       "      <td>30.46</td>\n",
       "      <td>59</td>\n",
       "      <td>177.39</td>\n",
       "      <td>5.62</td>\n",
       "      <td>1900-01-01 06:13:00</td>\n",
       "      <td>1900-01-01 18:13:00</td>\n",
       "    </tr>\n",
       "    <tr>\n",
       "      <th>1</th>\n",
       "      <td>9/29/2016 12:00:00 AM</td>\n",
       "      <td>23:50:23</td>\n",
       "      <td>1.21</td>\n",
       "      <td>48</td>\n",
       "      <td>30.46</td>\n",
       "      <td>58</td>\n",
       "      <td>176.78</td>\n",
       "      <td>3.37</td>\n",
       "      <td>1900-01-01 06:13:00</td>\n",
       "      <td>1900-01-01 18:13:00</td>\n",
       "    </tr>\n",
       "    <tr>\n",
       "      <th>2</th>\n",
       "      <td>9/29/2016 12:00:00 AM</td>\n",
       "      <td>23:45:26</td>\n",
       "      <td>1.23</td>\n",
       "      <td>48</td>\n",
       "      <td>30.46</td>\n",
       "      <td>57</td>\n",
       "      <td>158.75</td>\n",
       "      <td>3.37</td>\n",
       "      <td>1900-01-01 06:13:00</td>\n",
       "      <td>1900-01-01 18:13:00</td>\n",
       "    </tr>\n",
       "    <tr>\n",
       "      <th>3</th>\n",
       "      <td>9/29/2016 12:00:00 AM</td>\n",
       "      <td>23:40:21</td>\n",
       "      <td>1.21</td>\n",
       "      <td>48</td>\n",
       "      <td>30.46</td>\n",
       "      <td>60</td>\n",
       "      <td>137.71</td>\n",
       "      <td>3.37</td>\n",
       "      <td>1900-01-01 06:13:00</td>\n",
       "      <td>1900-01-01 18:13:00</td>\n",
       "    </tr>\n",
       "    <tr>\n",
       "      <th>4</th>\n",
       "      <td>9/29/2016 12:00:00 AM</td>\n",
       "      <td>23:35:24</td>\n",
       "      <td>1.17</td>\n",
       "      <td>48</td>\n",
       "      <td>30.46</td>\n",
       "      <td>62</td>\n",
       "      <td>104.95</td>\n",
       "      <td>5.62</td>\n",
       "      <td>1900-01-01 06:13:00</td>\n",
       "      <td>1900-01-01 18:13:00</td>\n",
       "    </tr>\n",
       "  </tbody>\n",
       "</table>\n",
       "</div>"
      ],
      "text/plain": [
       "                    Data      Time  Radiation  Temperature  Pressure  \\\n",
       "0  9/29/2016 12:00:00 AM  23:55:26       1.21           48     30.46   \n",
       "1  9/29/2016 12:00:00 AM  23:50:23       1.21           48     30.46   \n",
       "2  9/29/2016 12:00:00 AM  23:45:26       1.23           48     30.46   \n",
       "3  9/29/2016 12:00:00 AM  23:40:21       1.21           48     30.46   \n",
       "4  9/29/2016 12:00:00 AM  23:35:24       1.17           48     30.46   \n",
       "\n",
       "   Humidity  WindDirection(Degrees)  Speed         TimeSunRise  \\\n",
       "0        59                  177.39   5.62 1900-01-01 06:13:00   \n",
       "1        58                  176.78   3.37 1900-01-01 06:13:00   \n",
       "2        57                  158.75   3.37 1900-01-01 06:13:00   \n",
       "3        60                  137.71   3.37 1900-01-01 06:13:00   \n",
       "4        62                  104.95   5.62 1900-01-01 06:13:00   \n",
       "\n",
       "           TimeSunSet  \n",
       "0 1900-01-01 18:13:00  \n",
       "1 1900-01-01 18:13:00  \n",
       "2 1900-01-01 18:13:00  \n",
       "3 1900-01-01 18:13:00  \n",
       "4 1900-01-01 18:13:00  "
      ]
     },
     "execution_count": 10,
     "metadata": {},
     "output_type": "execute_result"
    }
   ],
   "source": [
    "sd.head()"
   ]
  },
  {
   "cell_type": "code",
   "execution_count": 11,
   "id": "169e824e",
   "metadata": {},
   "outputs": [],
   "source": [
    "sd['Exposure time']=sd['TimeSunSet']-sd['TimeSunRise']\n",
    "sd['Exposure time']=sd['Exposure time']/np.timedelta64(1,'m') #Exposure time in minutes "
   ]
  },
  {
   "cell_type": "code",
   "execution_count": 12,
   "id": "59d60e5b",
   "metadata": {},
   "outputs": [
    {
     "data": {
      "text/html": [
       "<div>\n",
       "<style scoped>\n",
       "    .dataframe tbody tr th:only-of-type {\n",
       "        vertical-align: middle;\n",
       "    }\n",
       "\n",
       "    .dataframe tbody tr th {\n",
       "        vertical-align: top;\n",
       "    }\n",
       "\n",
       "    .dataframe thead th {\n",
       "        text-align: right;\n",
       "    }\n",
       "</style>\n",
       "<table border=\"1\" class=\"dataframe\">\n",
       "  <thead>\n",
       "    <tr style=\"text-align: right;\">\n",
       "      <th></th>\n",
       "      <th>Data</th>\n",
       "      <th>Time</th>\n",
       "      <th>Radiation</th>\n",
       "      <th>Temperature</th>\n",
       "      <th>Pressure</th>\n",
       "      <th>Humidity</th>\n",
       "      <th>WindDirection(Degrees)</th>\n",
       "      <th>Speed</th>\n",
       "      <th>TimeSunRise</th>\n",
       "      <th>TimeSunSet</th>\n",
       "      <th>Exposure time</th>\n",
       "    </tr>\n",
       "  </thead>\n",
       "  <tbody>\n",
       "    <tr>\n",
       "      <th>0</th>\n",
       "      <td>9/29/2016 12:00:00 AM</td>\n",
       "      <td>23:55:26</td>\n",
       "      <td>1.21</td>\n",
       "      <td>48</td>\n",
       "      <td>30.46</td>\n",
       "      <td>59</td>\n",
       "      <td>177.39</td>\n",
       "      <td>5.62</td>\n",
       "      <td>1900-01-01 06:13:00</td>\n",
       "      <td>1900-01-01 18:13:00</td>\n",
       "      <td>720.0</td>\n",
       "    </tr>\n",
       "    <tr>\n",
       "      <th>1</th>\n",
       "      <td>9/29/2016 12:00:00 AM</td>\n",
       "      <td>23:50:23</td>\n",
       "      <td>1.21</td>\n",
       "      <td>48</td>\n",
       "      <td>30.46</td>\n",
       "      <td>58</td>\n",
       "      <td>176.78</td>\n",
       "      <td>3.37</td>\n",
       "      <td>1900-01-01 06:13:00</td>\n",
       "      <td>1900-01-01 18:13:00</td>\n",
       "      <td>720.0</td>\n",
       "    </tr>\n",
       "    <tr>\n",
       "      <th>2</th>\n",
       "      <td>9/29/2016 12:00:00 AM</td>\n",
       "      <td>23:45:26</td>\n",
       "      <td>1.23</td>\n",
       "      <td>48</td>\n",
       "      <td>30.46</td>\n",
       "      <td>57</td>\n",
       "      <td>158.75</td>\n",
       "      <td>3.37</td>\n",
       "      <td>1900-01-01 06:13:00</td>\n",
       "      <td>1900-01-01 18:13:00</td>\n",
       "      <td>720.0</td>\n",
       "    </tr>\n",
       "    <tr>\n",
       "      <th>3</th>\n",
       "      <td>9/29/2016 12:00:00 AM</td>\n",
       "      <td>23:40:21</td>\n",
       "      <td>1.21</td>\n",
       "      <td>48</td>\n",
       "      <td>30.46</td>\n",
       "      <td>60</td>\n",
       "      <td>137.71</td>\n",
       "      <td>3.37</td>\n",
       "      <td>1900-01-01 06:13:00</td>\n",
       "      <td>1900-01-01 18:13:00</td>\n",
       "      <td>720.0</td>\n",
       "    </tr>\n",
       "    <tr>\n",
       "      <th>4</th>\n",
       "      <td>9/29/2016 12:00:00 AM</td>\n",
       "      <td>23:35:24</td>\n",
       "      <td>1.17</td>\n",
       "      <td>48</td>\n",
       "      <td>30.46</td>\n",
       "      <td>62</td>\n",
       "      <td>104.95</td>\n",
       "      <td>5.62</td>\n",
       "      <td>1900-01-01 06:13:00</td>\n",
       "      <td>1900-01-01 18:13:00</td>\n",
       "      <td>720.0</td>\n",
       "    </tr>\n",
       "  </tbody>\n",
       "</table>\n",
       "</div>"
      ],
      "text/plain": [
       "                    Data      Time  Radiation  Temperature  Pressure  \\\n",
       "0  9/29/2016 12:00:00 AM  23:55:26       1.21           48     30.46   \n",
       "1  9/29/2016 12:00:00 AM  23:50:23       1.21           48     30.46   \n",
       "2  9/29/2016 12:00:00 AM  23:45:26       1.23           48     30.46   \n",
       "3  9/29/2016 12:00:00 AM  23:40:21       1.21           48     30.46   \n",
       "4  9/29/2016 12:00:00 AM  23:35:24       1.17           48     30.46   \n",
       "\n",
       "   Humidity  WindDirection(Degrees)  Speed         TimeSunRise  \\\n",
       "0        59                  177.39   5.62 1900-01-01 06:13:00   \n",
       "1        58                  176.78   3.37 1900-01-01 06:13:00   \n",
       "2        57                  158.75   3.37 1900-01-01 06:13:00   \n",
       "3        60                  137.71   3.37 1900-01-01 06:13:00   \n",
       "4        62                  104.95   5.62 1900-01-01 06:13:00   \n",
       "\n",
       "           TimeSunSet  Exposure time  \n",
       "0 1900-01-01 18:13:00          720.0  \n",
       "1 1900-01-01 18:13:00          720.0  \n",
       "2 1900-01-01 18:13:00          720.0  \n",
       "3 1900-01-01 18:13:00          720.0  \n",
       "4 1900-01-01 18:13:00          720.0  "
      ]
     },
     "execution_count": 12,
     "metadata": {},
     "output_type": "execute_result"
    }
   ],
   "source": [
    "sd.head()"
   ]
  },
  {
   "cell_type": "code",
   "execution_count": 13,
   "id": "67589f0d",
   "metadata": {},
   "outputs": [
    {
     "data": {
      "text/html": [
       "<div>\n",
       "<style scoped>\n",
       "    .dataframe tbody tr th:only-of-type {\n",
       "        vertical-align: middle;\n",
       "    }\n",
       "\n",
       "    .dataframe tbody tr th {\n",
       "        vertical-align: top;\n",
       "    }\n",
       "\n",
       "    .dataframe thead th {\n",
       "        text-align: right;\n",
       "    }\n",
       "</style>\n",
       "<table border=\"1\" class=\"dataframe\">\n",
       "  <thead>\n",
       "    <tr style=\"text-align: right;\">\n",
       "      <th></th>\n",
       "      <th>Data</th>\n",
       "      <th>Time</th>\n",
       "      <th>Radiation</th>\n",
       "      <th>Temperature</th>\n",
       "      <th>Pressure</th>\n",
       "      <th>Humidity</th>\n",
       "      <th>WindDirection(Degrees)</th>\n",
       "      <th>Speed</th>\n",
       "      <th>Exposure time</th>\n",
       "    </tr>\n",
       "  </thead>\n",
       "  <tbody>\n",
       "    <tr>\n",
       "      <th>0</th>\n",
       "      <td>9/29/2016 12:00:00 AM</td>\n",
       "      <td>23:55:26</td>\n",
       "      <td>1.21</td>\n",
       "      <td>48</td>\n",
       "      <td>30.46</td>\n",
       "      <td>59</td>\n",
       "      <td>177.39</td>\n",
       "      <td>5.62</td>\n",
       "      <td>720.0</td>\n",
       "    </tr>\n",
       "    <tr>\n",
       "      <th>1</th>\n",
       "      <td>9/29/2016 12:00:00 AM</td>\n",
       "      <td>23:50:23</td>\n",
       "      <td>1.21</td>\n",
       "      <td>48</td>\n",
       "      <td>30.46</td>\n",
       "      <td>58</td>\n",
       "      <td>176.78</td>\n",
       "      <td>3.37</td>\n",
       "      <td>720.0</td>\n",
       "    </tr>\n",
       "    <tr>\n",
       "      <th>2</th>\n",
       "      <td>9/29/2016 12:00:00 AM</td>\n",
       "      <td>23:45:26</td>\n",
       "      <td>1.23</td>\n",
       "      <td>48</td>\n",
       "      <td>30.46</td>\n",
       "      <td>57</td>\n",
       "      <td>158.75</td>\n",
       "      <td>3.37</td>\n",
       "      <td>720.0</td>\n",
       "    </tr>\n",
       "    <tr>\n",
       "      <th>3</th>\n",
       "      <td>9/29/2016 12:00:00 AM</td>\n",
       "      <td>23:40:21</td>\n",
       "      <td>1.21</td>\n",
       "      <td>48</td>\n",
       "      <td>30.46</td>\n",
       "      <td>60</td>\n",
       "      <td>137.71</td>\n",
       "      <td>3.37</td>\n",
       "      <td>720.0</td>\n",
       "    </tr>\n",
       "    <tr>\n",
       "      <th>4</th>\n",
       "      <td>9/29/2016 12:00:00 AM</td>\n",
       "      <td>23:35:24</td>\n",
       "      <td>1.17</td>\n",
       "      <td>48</td>\n",
       "      <td>30.46</td>\n",
       "      <td>62</td>\n",
       "      <td>104.95</td>\n",
       "      <td>5.62</td>\n",
       "      <td>720.0</td>\n",
       "    </tr>\n",
       "  </tbody>\n",
       "</table>\n",
       "</div>"
      ],
      "text/plain": [
       "                    Data      Time  Radiation  Temperature  Pressure  \\\n",
       "0  9/29/2016 12:00:00 AM  23:55:26       1.21           48     30.46   \n",
       "1  9/29/2016 12:00:00 AM  23:50:23       1.21           48     30.46   \n",
       "2  9/29/2016 12:00:00 AM  23:45:26       1.23           48     30.46   \n",
       "3  9/29/2016 12:00:00 AM  23:40:21       1.21           48     30.46   \n",
       "4  9/29/2016 12:00:00 AM  23:35:24       1.17           48     30.46   \n",
       "\n",
       "   Humidity  WindDirection(Degrees)  Speed  Exposure time  \n",
       "0        59                  177.39   5.62          720.0  \n",
       "1        58                  176.78   3.37          720.0  \n",
       "2        57                  158.75   3.37          720.0  \n",
       "3        60                  137.71   3.37          720.0  \n",
       "4        62                  104.95   5.62          720.0  "
      ]
     },
     "execution_count": 13,
     "metadata": {},
     "output_type": "execute_result"
    }
   ],
   "source": [
    "#Cleaning the time sunrise and time sunset column\n",
    "solar=sd.drop(['TimeSunRise','TimeSunSet'],axis=1)\n",
    "solar.head()"
   ]
  },
  {
   "cell_type": "code",
   "execution_count": 14,
   "id": "0666c501",
   "metadata": {},
   "outputs": [
    {
     "data": {
      "text/html": [
       "<div>\n",
       "<style scoped>\n",
       "    .dataframe tbody tr th:only-of-type {\n",
       "        vertical-align: middle;\n",
       "    }\n",
       "\n",
       "    .dataframe tbody tr th {\n",
       "        vertical-align: top;\n",
       "    }\n",
       "\n",
       "    .dataframe thead th {\n",
       "        text-align: right;\n",
       "    }\n",
       "</style>\n",
       "<table border=\"1\" class=\"dataframe\">\n",
       "  <thead>\n",
       "    <tr style=\"text-align: right;\">\n",
       "      <th></th>\n",
       "      <th>Data</th>\n",
       "      <th>Time</th>\n",
       "      <th>Radiation</th>\n",
       "      <th>Temperature</th>\n",
       "      <th>Pressure</th>\n",
       "      <th>Humidity</th>\n",
       "      <th>WindDirection(Degrees)</th>\n",
       "      <th>Speed</th>\n",
       "      <th>Exposure time</th>\n",
       "      <th>Date</th>\n",
       "    </tr>\n",
       "  </thead>\n",
       "  <tbody>\n",
       "    <tr>\n",
       "      <th>0</th>\n",
       "      <td>9/29/2016 12:00:00 AM</td>\n",
       "      <td>23:55:26</td>\n",
       "      <td>1.21</td>\n",
       "      <td>48</td>\n",
       "      <td>30.46</td>\n",
       "      <td>59</td>\n",
       "      <td>177.39</td>\n",
       "      <td>5.62</td>\n",
       "      <td>720.0</td>\n",
       "      <td>2016-09-29 23:55:26</td>\n",
       "    </tr>\n",
       "    <tr>\n",
       "      <th>1</th>\n",
       "      <td>9/29/2016 12:00:00 AM</td>\n",
       "      <td>23:50:23</td>\n",
       "      <td>1.21</td>\n",
       "      <td>48</td>\n",
       "      <td>30.46</td>\n",
       "      <td>58</td>\n",
       "      <td>176.78</td>\n",
       "      <td>3.37</td>\n",
       "      <td>720.0</td>\n",
       "      <td>2016-09-29 23:50:23</td>\n",
       "    </tr>\n",
       "    <tr>\n",
       "      <th>2</th>\n",
       "      <td>9/29/2016 12:00:00 AM</td>\n",
       "      <td>23:45:26</td>\n",
       "      <td>1.23</td>\n",
       "      <td>48</td>\n",
       "      <td>30.46</td>\n",
       "      <td>57</td>\n",
       "      <td>158.75</td>\n",
       "      <td>3.37</td>\n",
       "      <td>720.0</td>\n",
       "      <td>2016-09-29 23:45:26</td>\n",
       "    </tr>\n",
       "    <tr>\n",
       "      <th>3</th>\n",
       "      <td>9/29/2016 12:00:00 AM</td>\n",
       "      <td>23:40:21</td>\n",
       "      <td>1.21</td>\n",
       "      <td>48</td>\n",
       "      <td>30.46</td>\n",
       "      <td>60</td>\n",
       "      <td>137.71</td>\n",
       "      <td>3.37</td>\n",
       "      <td>720.0</td>\n",
       "      <td>2016-09-29 23:40:21</td>\n",
       "    </tr>\n",
       "    <tr>\n",
       "      <th>4</th>\n",
       "      <td>9/29/2016 12:00:00 AM</td>\n",
       "      <td>23:35:24</td>\n",
       "      <td>1.17</td>\n",
       "      <td>48</td>\n",
       "      <td>30.46</td>\n",
       "      <td>62</td>\n",
       "      <td>104.95</td>\n",
       "      <td>5.62</td>\n",
       "      <td>720.0</td>\n",
       "      <td>2016-09-29 23:35:24</td>\n",
       "    </tr>\n",
       "  </tbody>\n",
       "</table>\n",
       "</div>"
      ],
      "text/plain": [
       "                    Data      Time  Radiation  Temperature  Pressure  \\\n",
       "0  9/29/2016 12:00:00 AM  23:55:26       1.21           48     30.46   \n",
       "1  9/29/2016 12:00:00 AM  23:50:23       1.21           48     30.46   \n",
       "2  9/29/2016 12:00:00 AM  23:45:26       1.23           48     30.46   \n",
       "3  9/29/2016 12:00:00 AM  23:40:21       1.21           48     30.46   \n",
       "4  9/29/2016 12:00:00 AM  23:35:24       1.17           48     30.46   \n",
       "\n",
       "   Humidity  WindDirection(Degrees)  Speed  Exposure time                Date  \n",
       "0        59                  177.39   5.62          720.0 2016-09-29 23:55:26  \n",
       "1        58                  176.78   3.37          720.0 2016-09-29 23:50:23  \n",
       "2        57                  158.75   3.37          720.0 2016-09-29 23:45:26  \n",
       "3        60                  137.71   3.37          720.0 2016-09-29 23:40:21  \n",
       "4        62                  104.95   5.62          720.0 2016-09-29 23:35:24  "
      ]
     },
     "execution_count": 14,
     "metadata": {},
     "output_type": "execute_result"
    }
   ],
   "source": [
    "solar['Date']=pd.to_datetime(solar['Data']+''+solar['Time'])\n",
    "solar.head()"
   ]
  },
  {
   "cell_type": "code",
   "execution_count": 15,
   "id": "65a0ae9b",
   "metadata": {},
   "outputs": [
    {
     "data": {
      "text/plain": [
       "Data                              object\n",
       "Time                              object\n",
       "Radiation                        float64\n",
       "Temperature                        int64\n",
       "Pressure                         float64\n",
       "Humidity                           int64\n",
       "WindDirection(Degrees)           float64\n",
       "Speed                            float64\n",
       "Exposure time                    float64\n",
       "Date                      datetime64[ns]\n",
       "dtype: object"
      ]
     },
     "execution_count": 15,
     "metadata": {},
     "output_type": "execute_result"
    }
   ],
   "source": [
    "solar.dtypes"
   ]
  },
  {
   "cell_type": "code",
   "execution_count": 16,
   "id": "c4e764d6",
   "metadata": {},
   "outputs": [
    {
     "data": {
      "text/html": [
       "<div>\n",
       "<style scoped>\n",
       "    .dataframe tbody tr th:only-of-type {\n",
       "        vertical-align: middle;\n",
       "    }\n",
       "\n",
       "    .dataframe tbody tr th {\n",
       "        vertical-align: top;\n",
       "    }\n",
       "\n",
       "    .dataframe thead th {\n",
       "        text-align: right;\n",
       "    }\n",
       "</style>\n",
       "<table border=\"1\" class=\"dataframe\">\n",
       "  <thead>\n",
       "    <tr style=\"text-align: right;\">\n",
       "      <th></th>\n",
       "      <th>Data</th>\n",
       "      <th>Radiation</th>\n",
       "      <th>Temperature</th>\n",
       "      <th>Pressure</th>\n",
       "      <th>Humidity</th>\n",
       "      <th>WindDirection(Degrees)</th>\n",
       "      <th>Speed</th>\n",
       "      <th>Exposure time</th>\n",
       "      <th>Date</th>\n",
       "    </tr>\n",
       "  </thead>\n",
       "  <tbody>\n",
       "    <tr>\n",
       "      <th>0</th>\n",
       "      <td>9/29/2016 12:00:00 AM</td>\n",
       "      <td>1.21</td>\n",
       "      <td>48</td>\n",
       "      <td>30.46</td>\n",
       "      <td>59</td>\n",
       "      <td>177.39</td>\n",
       "      <td>5.62</td>\n",
       "      <td>720.0</td>\n",
       "      <td>2016-09-29 23:55:26</td>\n",
       "    </tr>\n",
       "    <tr>\n",
       "      <th>1</th>\n",
       "      <td>9/29/2016 12:00:00 AM</td>\n",
       "      <td>1.21</td>\n",
       "      <td>48</td>\n",
       "      <td>30.46</td>\n",
       "      <td>58</td>\n",
       "      <td>176.78</td>\n",
       "      <td>3.37</td>\n",
       "      <td>720.0</td>\n",
       "      <td>2016-09-29 23:50:23</td>\n",
       "    </tr>\n",
       "    <tr>\n",
       "      <th>2</th>\n",
       "      <td>9/29/2016 12:00:00 AM</td>\n",
       "      <td>1.23</td>\n",
       "      <td>48</td>\n",
       "      <td>30.46</td>\n",
       "      <td>57</td>\n",
       "      <td>158.75</td>\n",
       "      <td>3.37</td>\n",
       "      <td>720.0</td>\n",
       "      <td>2016-09-29 23:45:26</td>\n",
       "    </tr>\n",
       "    <tr>\n",
       "      <th>3</th>\n",
       "      <td>9/29/2016 12:00:00 AM</td>\n",
       "      <td>1.21</td>\n",
       "      <td>48</td>\n",
       "      <td>30.46</td>\n",
       "      <td>60</td>\n",
       "      <td>137.71</td>\n",
       "      <td>3.37</td>\n",
       "      <td>720.0</td>\n",
       "      <td>2016-09-29 23:40:21</td>\n",
       "    </tr>\n",
       "    <tr>\n",
       "      <th>4</th>\n",
       "      <td>9/29/2016 12:00:00 AM</td>\n",
       "      <td>1.17</td>\n",
       "      <td>48</td>\n",
       "      <td>30.46</td>\n",
       "      <td>62</td>\n",
       "      <td>104.95</td>\n",
       "      <td>5.62</td>\n",
       "      <td>720.0</td>\n",
       "      <td>2016-09-29 23:35:24</td>\n",
       "    </tr>\n",
       "  </tbody>\n",
       "</table>\n",
       "</div>"
      ],
      "text/plain": [
       "                    Data  Radiation  Temperature  Pressure  Humidity  \\\n",
       "0  9/29/2016 12:00:00 AM       1.21           48     30.46        59   \n",
       "1  9/29/2016 12:00:00 AM       1.21           48     30.46        58   \n",
       "2  9/29/2016 12:00:00 AM       1.23           48     30.46        57   \n",
       "3  9/29/2016 12:00:00 AM       1.21           48     30.46        60   \n",
       "4  9/29/2016 12:00:00 AM       1.17           48     30.46        62   \n",
       "\n",
       "   WindDirection(Degrees)  Speed  Exposure time                Date  \n",
       "0                  177.39   5.62          720.0 2016-09-29 23:55:26  \n",
       "1                  176.78   3.37          720.0 2016-09-29 23:50:23  \n",
       "2                  158.75   3.37          720.0 2016-09-29 23:45:26  \n",
       "3                  137.71   3.37          720.0 2016-09-29 23:40:21  \n",
       "4                  104.95   5.62          720.0 2016-09-29 23:35:24  "
      ]
     },
     "execution_count": 16,
     "metadata": {},
     "output_type": "execute_result"
    }
   ],
   "source": [
    "sr=solar.drop(['Time'],axis=1)\n",
    "sr.head()"
   ]
  },
  {
   "cell_type": "code",
   "execution_count": 17,
   "id": "03123176",
   "metadata": {},
   "outputs": [
    {
     "data": {
      "text/html": [
       "<div>\n",
       "<style scoped>\n",
       "    .dataframe tbody tr th:only-of-type {\n",
       "        vertical-align: middle;\n",
       "    }\n",
       "\n",
       "    .dataframe tbody tr th {\n",
       "        vertical-align: top;\n",
       "    }\n",
       "\n",
       "    .dataframe thead th {\n",
       "        text-align: right;\n",
       "    }\n",
       "</style>\n",
       "<table border=\"1\" class=\"dataframe\">\n",
       "  <thead>\n",
       "    <tr style=\"text-align: right;\">\n",
       "      <th></th>\n",
       "      <th>Data</th>\n",
       "      <th>Radiation</th>\n",
       "      <th>Temperature</th>\n",
       "      <th>Pressure</th>\n",
       "      <th>Humidity</th>\n",
       "      <th>WindDirection(Degrees)</th>\n",
       "      <th>Speed</th>\n",
       "      <th>Exposure time</th>\n",
       "      <th>Date</th>\n",
       "    </tr>\n",
       "  </thead>\n",
       "  <tbody>\n",
       "    <tr>\n",
       "      <th>0</th>\n",
       "      <td>2016-09-29</td>\n",
       "      <td>1.21</td>\n",
       "      <td>48</td>\n",
       "      <td>30.46</td>\n",
       "      <td>59</td>\n",
       "      <td>177.39</td>\n",
       "      <td>5.62</td>\n",
       "      <td>720.0</td>\n",
       "      <td>2016-09-29 23:55:26</td>\n",
       "    </tr>\n",
       "    <tr>\n",
       "      <th>1</th>\n",
       "      <td>2016-09-29</td>\n",
       "      <td>1.21</td>\n",
       "      <td>48</td>\n",
       "      <td>30.46</td>\n",
       "      <td>58</td>\n",
       "      <td>176.78</td>\n",
       "      <td>3.37</td>\n",
       "      <td>720.0</td>\n",
       "      <td>2016-09-29 23:50:23</td>\n",
       "    </tr>\n",
       "    <tr>\n",
       "      <th>2</th>\n",
       "      <td>2016-09-29</td>\n",
       "      <td>1.23</td>\n",
       "      <td>48</td>\n",
       "      <td>30.46</td>\n",
       "      <td>57</td>\n",
       "      <td>158.75</td>\n",
       "      <td>3.37</td>\n",
       "      <td>720.0</td>\n",
       "      <td>2016-09-29 23:45:26</td>\n",
       "    </tr>\n",
       "    <tr>\n",
       "      <th>3</th>\n",
       "      <td>2016-09-29</td>\n",
       "      <td>1.21</td>\n",
       "      <td>48</td>\n",
       "      <td>30.46</td>\n",
       "      <td>60</td>\n",
       "      <td>137.71</td>\n",
       "      <td>3.37</td>\n",
       "      <td>720.0</td>\n",
       "      <td>2016-09-29 23:40:21</td>\n",
       "    </tr>\n",
       "    <tr>\n",
       "      <th>4</th>\n",
       "      <td>2016-09-29</td>\n",
       "      <td>1.17</td>\n",
       "      <td>48</td>\n",
       "      <td>30.46</td>\n",
       "      <td>62</td>\n",
       "      <td>104.95</td>\n",
       "      <td>5.62</td>\n",
       "      <td>720.0</td>\n",
       "      <td>2016-09-29 23:35:24</td>\n",
       "    </tr>\n",
       "  </tbody>\n",
       "</table>\n",
       "</div>"
      ],
      "text/plain": [
       "        Data  Radiation  Temperature  Pressure  Humidity  \\\n",
       "0 2016-09-29       1.21           48     30.46        59   \n",
       "1 2016-09-29       1.21           48     30.46        58   \n",
       "2 2016-09-29       1.23           48     30.46        57   \n",
       "3 2016-09-29       1.21           48     30.46        60   \n",
       "4 2016-09-29       1.17           48     30.46        62   \n",
       "\n",
       "   WindDirection(Degrees)  Speed  Exposure time                Date  \n",
       "0                  177.39   5.62          720.0 2016-09-29 23:55:26  \n",
       "1                  176.78   3.37          720.0 2016-09-29 23:50:23  \n",
       "2                  158.75   3.37          720.0 2016-09-29 23:45:26  \n",
       "3                  137.71   3.37          720.0 2016-09-29 23:40:21  \n",
       "4                  104.95   5.62          720.0 2016-09-29 23:35:24  "
      ]
     },
     "execution_count": 17,
     "metadata": {},
     "output_type": "execute_result"
    }
   ],
   "source": [
    "sr['Data']=pd.to_datetime(sr['Data'])\n",
    "sr.head()"
   ]
  },
  {
   "cell_type": "code",
   "execution_count": 18,
   "id": "19bcdba2",
   "metadata": {},
   "outputs": [
    {
     "data": {
      "text/html": [
       "<div>\n",
       "<style scoped>\n",
       "    .dataframe tbody tr th:only-of-type {\n",
       "        vertical-align: middle;\n",
       "    }\n",
       "\n",
       "    .dataframe tbody tr th {\n",
       "        vertical-align: top;\n",
       "    }\n",
       "\n",
       "    .dataframe thead th {\n",
       "        text-align: right;\n",
       "    }\n",
       "</style>\n",
       "<table border=\"1\" class=\"dataframe\">\n",
       "  <thead>\n",
       "    <tr style=\"text-align: right;\">\n",
       "      <th></th>\n",
       "      <th>Radiation</th>\n",
       "      <th>Temperature</th>\n",
       "      <th>Pressure</th>\n",
       "      <th>Humidity</th>\n",
       "      <th>WindDirection(Degrees)</th>\n",
       "      <th>Speed</th>\n",
       "      <th>Exposure time</th>\n",
       "      <th>Date</th>\n",
       "    </tr>\n",
       "    <tr>\n",
       "      <th>Data</th>\n",
       "      <th></th>\n",
       "      <th></th>\n",
       "      <th></th>\n",
       "      <th></th>\n",
       "      <th></th>\n",
       "      <th></th>\n",
       "      <th></th>\n",
       "      <th></th>\n",
       "    </tr>\n",
       "  </thead>\n",
       "  <tbody>\n",
       "    <tr>\n",
       "      <th>2016-09-29</th>\n",
       "      <td>1.21</td>\n",
       "      <td>48</td>\n",
       "      <td>30.46</td>\n",
       "      <td>59</td>\n",
       "      <td>177.39</td>\n",
       "      <td>5.62</td>\n",
       "      <td>720.0</td>\n",
       "      <td>2016-09-29 23:55:26</td>\n",
       "    </tr>\n",
       "    <tr>\n",
       "      <th>2016-09-29</th>\n",
       "      <td>1.21</td>\n",
       "      <td>48</td>\n",
       "      <td>30.46</td>\n",
       "      <td>58</td>\n",
       "      <td>176.78</td>\n",
       "      <td>3.37</td>\n",
       "      <td>720.0</td>\n",
       "      <td>2016-09-29 23:50:23</td>\n",
       "    </tr>\n",
       "    <tr>\n",
       "      <th>2016-09-29</th>\n",
       "      <td>1.23</td>\n",
       "      <td>48</td>\n",
       "      <td>30.46</td>\n",
       "      <td>57</td>\n",
       "      <td>158.75</td>\n",
       "      <td>3.37</td>\n",
       "      <td>720.0</td>\n",
       "      <td>2016-09-29 23:45:26</td>\n",
       "    </tr>\n",
       "    <tr>\n",
       "      <th>2016-09-29</th>\n",
       "      <td>1.21</td>\n",
       "      <td>48</td>\n",
       "      <td>30.46</td>\n",
       "      <td>60</td>\n",
       "      <td>137.71</td>\n",
       "      <td>3.37</td>\n",
       "      <td>720.0</td>\n",
       "      <td>2016-09-29 23:40:21</td>\n",
       "    </tr>\n",
       "    <tr>\n",
       "      <th>2016-09-29</th>\n",
       "      <td>1.17</td>\n",
       "      <td>48</td>\n",
       "      <td>30.46</td>\n",
       "      <td>62</td>\n",
       "      <td>104.95</td>\n",
       "      <td>5.62</td>\n",
       "      <td>720.0</td>\n",
       "      <td>2016-09-29 23:35:24</td>\n",
       "    </tr>\n",
       "  </tbody>\n",
       "</table>\n",
       "</div>"
      ],
      "text/plain": [
       "            Radiation  Temperature  Pressure  Humidity  \\\n",
       "Data                                                     \n",
       "2016-09-29       1.21           48     30.46        59   \n",
       "2016-09-29       1.21           48     30.46        58   \n",
       "2016-09-29       1.23           48     30.46        57   \n",
       "2016-09-29       1.21           48     30.46        60   \n",
       "2016-09-29       1.17           48     30.46        62   \n",
       "\n",
       "            WindDirection(Degrees)  Speed  Exposure time                Date  \n",
       "Data                                                                          \n",
       "2016-09-29                  177.39   5.62          720.0 2016-09-29 23:55:26  \n",
       "2016-09-29                  176.78   3.37          720.0 2016-09-29 23:50:23  \n",
       "2016-09-29                  158.75   3.37          720.0 2016-09-29 23:45:26  \n",
       "2016-09-29                  137.71   3.37          720.0 2016-09-29 23:40:21  \n",
       "2016-09-29                  104.95   5.62          720.0 2016-09-29 23:35:24  "
      ]
     },
     "execution_count": 18,
     "metadata": {},
     "output_type": "execute_result"
    }
   ],
   "source": [
    "sr=sr.set_index('Data')\n",
    "sr.head()"
   ]
  },
  {
   "cell_type": "code",
   "execution_count": 19,
   "id": "5746fe11",
   "metadata": {},
   "outputs": [
    {
     "data": {
      "text/html": [
       "<div>\n",
       "<style scoped>\n",
       "    .dataframe tbody tr th:only-of-type {\n",
       "        vertical-align: middle;\n",
       "    }\n",
       "\n",
       "    .dataframe tbody tr th {\n",
       "        vertical-align: top;\n",
       "    }\n",
       "\n",
       "    .dataframe thead th {\n",
       "        text-align: right;\n",
       "    }\n",
       "</style>\n",
       "<table border=\"1\" class=\"dataframe\">\n",
       "  <thead>\n",
       "    <tr style=\"text-align: right;\">\n",
       "      <th></th>\n",
       "      <th>Radiation</th>\n",
       "      <th>Temperature</th>\n",
       "      <th>Pressure</th>\n",
       "    </tr>\n",
       "    <tr>\n",
       "      <th>Data</th>\n",
       "      <th></th>\n",
       "      <th></th>\n",
       "      <th></th>\n",
       "    </tr>\n",
       "  </thead>\n",
       "  <tbody>\n",
       "    <tr>\n",
       "      <th>2016-09-29</th>\n",
       "      <td>1.21</td>\n",
       "      <td>48</td>\n",
       "      <td>30.46</td>\n",
       "    </tr>\n",
       "    <tr>\n",
       "      <th>2016-09-29</th>\n",
       "      <td>1.21</td>\n",
       "      <td>48</td>\n",
       "      <td>30.46</td>\n",
       "    </tr>\n",
       "    <tr>\n",
       "      <th>2016-09-29</th>\n",
       "      <td>1.23</td>\n",
       "      <td>48</td>\n",
       "      <td>30.46</td>\n",
       "    </tr>\n",
       "    <tr>\n",
       "      <th>2016-09-29</th>\n",
       "      <td>1.21</td>\n",
       "      <td>48</td>\n",
       "      <td>30.46</td>\n",
       "    </tr>\n",
       "    <tr>\n",
       "      <th>2016-09-29</th>\n",
       "      <td>1.17</td>\n",
       "      <td>48</td>\n",
       "      <td>30.46</td>\n",
       "    </tr>\n",
       "  </tbody>\n",
       "</table>\n",
       "</div>"
      ],
      "text/plain": [
       "            Radiation  Temperature  Pressure\n",
       "Data                                        \n",
       "2016-09-29       1.21           48     30.46\n",
       "2016-09-29       1.21           48     30.46\n",
       "2016-09-29       1.23           48     30.46\n",
       "2016-09-29       1.21           48     30.46\n",
       "2016-09-29       1.17           48     30.46"
      ]
     },
     "execution_count": 19,
     "metadata": {},
     "output_type": "execute_result"
    }
   ],
   "source": [
    "sr2=sr.drop(['WindDirection(Degrees)','Speed','Exposure time','Date','Humidity'],axis=1)\n",
    "sr2.head()\n",
    "            "
   ]
  },
  {
   "cell_type": "code",
   "execution_count": 20,
   "id": "69b16042",
   "metadata": {},
   "outputs": [
    {
     "data": {
      "text/html": [
       "<div>\n",
       "<style scoped>\n",
       "    .dataframe tbody tr th:only-of-type {\n",
       "        vertical-align: middle;\n",
       "    }\n",
       "\n",
       "    .dataframe tbody tr th {\n",
       "        vertical-align: top;\n",
       "    }\n",
       "\n",
       "    .dataframe thead th {\n",
       "        text-align: right;\n",
       "    }\n",
       "</style>\n",
       "<table border=\"1\" class=\"dataframe\">\n",
       "  <thead>\n",
       "    <tr style=\"text-align: right;\">\n",
       "      <th></th>\n",
       "      <th>Radiation</th>\n",
       "      <th>Temperature</th>\n",
       "      <th>Pressure</th>\n",
       "      <th>Humidity</th>\n",
       "      <th>WindDirection(Degrees)</th>\n",
       "      <th>Speed</th>\n",
       "      <th>Exposure time</th>\n",
       "    </tr>\n",
       "  </thead>\n",
       "  <tbody>\n",
       "    <tr>\n",
       "      <th>count</th>\n",
       "      <td>32686.000000</td>\n",
       "      <td>32686.000000</td>\n",
       "      <td>32686.000000</td>\n",
       "      <td>32686.000000</td>\n",
       "      <td>32686.000000</td>\n",
       "      <td>32686.000000</td>\n",
       "      <td>32686.000000</td>\n",
       "    </tr>\n",
       "    <tr>\n",
       "      <th>mean</th>\n",
       "      <td>207.124697</td>\n",
       "      <td>51.103255</td>\n",
       "      <td>30.422879</td>\n",
       "      <td>75.016307</td>\n",
       "      <td>143.489821</td>\n",
       "      <td>6.243869</td>\n",
       "      <td>690.550542</td>\n",
       "    </tr>\n",
       "    <tr>\n",
       "      <th>std</th>\n",
       "      <td>315.916387</td>\n",
       "      <td>6.201157</td>\n",
       "      <td>0.054673</td>\n",
       "      <td>25.990219</td>\n",
       "      <td>83.167500</td>\n",
       "      <td>3.490474</td>\n",
       "      <td>29.931225</td>\n",
       "    </tr>\n",
       "    <tr>\n",
       "      <th>min</th>\n",
       "      <td>1.110000</td>\n",
       "      <td>34.000000</td>\n",
       "      <td>30.190000</td>\n",
       "      <td>8.000000</td>\n",
       "      <td>0.090000</td>\n",
       "      <td>0.000000</td>\n",
       "      <td>656.000000</td>\n",
       "    </tr>\n",
       "    <tr>\n",
       "      <th>25%</th>\n",
       "      <td>1.230000</td>\n",
       "      <td>46.000000</td>\n",
       "      <td>30.400000</td>\n",
       "      <td>56.000000</td>\n",
       "      <td>82.227500</td>\n",
       "      <td>3.370000</td>\n",
       "      <td>662.000000</td>\n",
       "    </tr>\n",
       "    <tr>\n",
       "      <th>50%</th>\n",
       "      <td>2.660000</td>\n",
       "      <td>50.000000</td>\n",
       "      <td>30.430000</td>\n",
       "      <td>85.000000</td>\n",
       "      <td>147.700000</td>\n",
       "      <td>5.620000</td>\n",
       "      <td>684.000000</td>\n",
       "    </tr>\n",
       "    <tr>\n",
       "      <th>75%</th>\n",
       "      <td>354.235000</td>\n",
       "      <td>55.000000</td>\n",
       "      <td>30.460000</td>\n",
       "      <td>97.000000</td>\n",
       "      <td>179.310000</td>\n",
       "      <td>7.870000</td>\n",
       "      <td>715.000000</td>\n",
       "    </tr>\n",
       "    <tr>\n",
       "      <th>max</th>\n",
       "      <td>1601.260000</td>\n",
       "      <td>71.000000</td>\n",
       "      <td>30.560000</td>\n",
       "      <td>103.000000</td>\n",
       "      <td>359.950000</td>\n",
       "      <td>40.500000</td>\n",
       "      <td>751.000000</td>\n",
       "    </tr>\n",
       "  </tbody>\n",
       "</table>\n",
       "</div>"
      ],
      "text/plain": [
       "          Radiation   Temperature      Pressure      Humidity  \\\n",
       "count  32686.000000  32686.000000  32686.000000  32686.000000   \n",
       "mean     207.124697     51.103255     30.422879     75.016307   \n",
       "std      315.916387      6.201157      0.054673     25.990219   \n",
       "min        1.110000     34.000000     30.190000      8.000000   \n",
       "25%        1.230000     46.000000     30.400000     56.000000   \n",
       "50%        2.660000     50.000000     30.430000     85.000000   \n",
       "75%      354.235000     55.000000     30.460000     97.000000   \n",
       "max     1601.260000     71.000000     30.560000    103.000000   \n",
       "\n",
       "       WindDirection(Degrees)         Speed  Exposure time  \n",
       "count            32686.000000  32686.000000   32686.000000  \n",
       "mean               143.489821      6.243869     690.550542  \n",
       "std                 83.167500      3.490474      29.931225  \n",
       "min                  0.090000      0.000000     656.000000  \n",
       "25%                 82.227500      3.370000     662.000000  \n",
       "50%                147.700000      5.620000     684.000000  \n",
       "75%                179.310000      7.870000     715.000000  \n",
       "max                359.950000     40.500000     751.000000  "
      ]
     },
     "execution_count": 20,
     "metadata": {},
     "output_type": "execute_result"
    }
   ],
   "source": [
    "sr.describe()"
   ]
  },
  {
   "cell_type": "code",
   "execution_count": 21,
   "id": "f1305022",
   "metadata": {},
   "outputs": [
    {
     "data": {
      "text/plain": [
       "Radiation                 0\n",
       "Temperature               0\n",
       "Pressure                  0\n",
       "Humidity                  0\n",
       "WindDirection(Degrees)    0\n",
       "Speed                     0\n",
       "Exposure time             0\n",
       "Date                      0\n",
       "dtype: int64"
      ]
     },
     "execution_count": 21,
     "metadata": {},
     "output_type": "execute_result"
    }
   ],
   "source": [
    "#Outliers prediction\n",
    "sr.isnull().sum()"
   ]
  },
  {
   "cell_type": "code",
   "execution_count": 34,
   "id": "139d75cb",
   "metadata": {},
   "outputs": [
    {
     "data": {
      "text/plain": [
       "<AxesSubplot:xlabel='Pressure'>"
      ]
     },
     "execution_count": 34,
     "metadata": {},
     "output_type": "execute_result"
    },
    {
     "data": {
      "image/png": "[encoded data removed]",
      "text/plain": [
       "<Figure size 432x288 with 1 Axes>"
      ]
     },
     "metadata": {
      "needs_background": "light"
     },
     "output_type": "display_data"
    }
   ],
   "source": [
    "sns.boxplot(x='Pressure',data=d1)"
   ]
  },
  {
   "cell_type": "code",
   "execution_count": 27,
   "id": "b78ce9fa",
   "metadata": {},
   "outputs": [
    {
     "name": "stdout",
     "output_type": "stream",
     "text": [
      "907.275\n"
     ]
    }
   ],
   "source": [
    "print(sr['Radiation'].quantile(0.95))"
   ]
  },
  {
   "cell_type": "code",
   "execution_count": 28,
   "id": "45ae1e46",
   "metadata": {},
   "outputs": [
    {
     "name": "stdout",
     "output_type": "stream",
     "text": [
      "[Timestamp('2016-09-29 00:00:00'), Timestamp('2016-09-28 00:00:00'), Timestamp('2016-09-27 00:00:00'), Timestamp('2016-09-26 00:00:00'), Timestamp('2016-09-25 00:00:00'), Timestamp('2016-09-24 00:00:00'), Timestamp('2016-09-23 00:00:00'), Timestamp('2016-09-22 00:00:00'), Timestamp('2016-09-21 00:00:00'), Timestamp('2016-09-20 00:00:00'), Timestamp('2016-09-19 00:00:00'), Timestamp('2016-09-18 00:00:00'), Timestamp('2016-09-17 00:00:00'), Timestamp('2016-09-16 00:00:00'), Timestamp('2016-09-15 00:00:00'), Timestamp('2016-09-14 00:00:00'), Timestamp('2016-09-13 00:00:00'), Timestamp('2016-09-12 00:00:00'), Timestamp('2016-09-11 00:00:00'), Timestamp('2016-09-10 00:00:00'), Timestamp('2016-09-09 00:00:00'), Timestamp('2016-09-08 00:00:00'), Timestamp('2016-09-07 00:00:00'), Timestamp('2016-09-06 00:00:00'), Timestamp('2016-09-05 00:00:00'), Timestamp('2016-09-04 00:00:00'), Timestamp('2016-09-03 00:00:00'), Timestamp('2016-09-02 00:00:00'), Timestamp('2016-09-01 00:00:00'), Timestamp('2016-10-31 00:00:00'), Timestamp('2016-10-30 00:00:00'), Timestamp('2016-10-29 00:00:00'), Timestamp('2016-10-28 00:00:00'), Timestamp('2016-10-27 00:00:00'), Timestamp('2016-10-26 00:00:00'), Timestamp('2016-10-25 00:00:00'), Timestamp('2016-10-24 00:00:00'), Timestamp('2016-10-23 00:00:00'), Timestamp('2016-10-22 00:00:00'), Timestamp('2016-10-21 00:00:00'), Timestamp('2016-10-20 00:00:00'), Timestamp('2016-10-19 00:00:00'), Timestamp('2016-10-18 00:00:00'), Timestamp('2016-10-17 00:00:00'), Timestamp('2016-10-16 00:00:00'), Timestamp('2016-10-15 00:00:00'), Timestamp('2016-10-14 00:00:00'), Timestamp('2016-10-13 00:00:00'), Timestamp('2016-10-12 00:00:00'), Timestamp('2016-10-11 00:00:00'), Timestamp('2016-10-10 00:00:00'), Timestamp('2016-10-09 00:00:00'), Timestamp('2016-10-08 00:00:00'), Timestamp('2016-10-07 00:00:00'), Timestamp('2016-10-06 00:00:00'), Timestamp('2016-10-05 00:00:00'), Timestamp('2016-10-04 00:00:00'), Timestamp('2016-10-03 00:00:00'), Timestamp('2016-10-02 00:00:00'), Timestamp('2016-10-01 00:00:00'), Timestamp('2016-11-29 00:00:00'), Timestamp('2016-11-28 00:00:00'), Timestamp('2016-11-27 00:00:00'), Timestamp('2016-11-26 00:00:00'), Timestamp('2016-11-25 00:00:00'), Timestamp('2016-11-24 00:00:00'), Timestamp('2016-11-23 00:00:00'), Timestamp('2016-11-22 00:00:00'), Timestamp('2016-11-21 00:00:00'), Timestamp('2016-11-20 00:00:00'), Timestamp('2016-11-19 00:00:00'), Timestamp('2016-11-18 00:00:00'), Timestamp('2016-11-17 00:00:00'), Timestamp('2016-11-16 00:00:00'), Timestamp('2016-11-15 00:00:00'), Timestamp('2016-11-14 00:00:00'), Timestamp('2016-11-13 00:00:00'), Timestamp('2016-11-12 00:00:00'), Timestamp('2016-11-11 00:00:00'), Timestamp('2016-11-10 00:00:00'), Timestamp('2016-11-09 00:00:00'), Timestamp('2016-11-08 00:00:00'), Timestamp('2016-11-07 00:00:00'), Timestamp('2016-11-06 00:00:00'), Timestamp('2016-11-05 00:00:00'), Timestamp('2016-11-04 00:00:00'), Timestamp('2016-11-03 00:00:00'), Timestamp('2016-11-02 00:00:00'), Timestamp('2016-11-01 00:00:00'), Timestamp('2016-12-31 00:00:00'), Timestamp('2016-12-30 00:00:00'), Timestamp('2016-12-29 00:00:00'), Timestamp('2016-12-28 00:00:00'), Timestamp('2016-12-27 00:00:00'), Timestamp('2016-12-26 00:00:00'), Timestamp('2016-12-25 00:00:00'), Timestamp('2016-12-24 00:00:00'), Timestamp('2016-12-23 00:00:00'), Timestamp('2016-12-22 00:00:00'), Timestamp('2016-12-21 00:00:00'), Timestamp('2016-12-20 00:00:00'), Timestamp('2016-12-19 00:00:00'), Timestamp('2016-12-18 00:00:00'), Timestamp('2016-12-17 00:00:00'), Timestamp('2016-12-16 00:00:00'), Timestamp('2016-12-15 00:00:00'), Timestamp('2016-12-14 00:00:00'), Timestamp('2016-12-13 00:00:00'), Timestamp('2016-12-12 00:00:00'), Timestamp('2016-12-11 00:00:00'), Timestamp('2016-12-10 00:00:00'), Timestamp('2016-12-09 00:00:00'), Timestamp('2016-12-08 00:00:00'), Timestamp('2016-12-05 00:00:00'), Timestamp('2016-12-04 00:00:00'), Timestamp('2016-12-03 00:00:00'), Timestamp('2016-12-02 00:00:00'), Timestamp('2016-12-01 00:00:00')]\n"
     ]
    }
   ],
   "source": [
    "from collections import OrderedDict\n",
    "l1=list(sr2.index)\n",
    "l1_d=list(OrderedDict.fromkeys(l1))\n",
    "print(l1_d)\n",
    "#removing duplicates from the list "
   ]
  },
  {
   "cell_type": "code",
   "execution_count": 29,
   "id": "2d40ada7",
   "metadata": {},
   "outputs": [
    {
     "name": "stdout",
     "output_type": "stream",
     "text": [
      "[Radiation       6.16\n",
      "Temperature    51.00\n",
      "Pressure       30.44\n",
      "dtype: float64, Radiation       6.815\n",
      "Temperature    53.000\n",
      "Pressure       30.390\n",
      "dtype: float64, Radiation       8.45\n",
      "Temperature    52.00\n",
      "Pressure       30.38\n",
      "dtype: float64, Radiation       1.26\n",
      "Temperature    49.00\n",
      "Pressure       30.42\n",
      "dtype: float64, Radiation      10.445\n",
      "Temperature    51.000\n",
      "Pressure       30.460\n",
      "dtype: float64, Radiation       8.25\n",
      "Temperature    54.00\n",
      "Pressure       30.46\n",
      "dtype: float64, Radiation       1.75\n",
      "Temperature    54.00\n",
      "Pressure       30.45\n",
      "dtype: float64, Radiation       7.63\n",
      "Temperature    54.00\n",
      "Pressure       30.41\n",
      "dtype: float64, Radiation       5.535\n",
      "Temperature    51.000\n",
      "Pressure       30.400\n",
      "dtype: float64, Radiation       7.92\n",
      "Temperature    50.00\n",
      "Pressure       30.40\n",
      "dtype: float64, Radiation      18.92\n",
      "Temperature    56.00\n",
      "Pressure       30.43\n",
      "dtype: float64, Radiation       7.48\n",
      "Temperature    53.00\n",
      "Pressure       30.45\n",
      "dtype: float64, Radiation       8.84\n",
      "Temperature    54.00\n",
      "Pressure       30.47\n",
      "dtype: float64, Radiation      234.80\n",
      "Temperature     55.00\n",
      "Pressure        30.47\n",
      "dtype: float64, Radiation       1.355\n",
      "Temperature    49.000\n",
      "Pressure       30.430\n",
      "dtype: float64, Radiation       8.48\n",
      "Temperature    52.00\n",
      "Pressure       30.42\n",
      "dtype: float64, Radiation      11.97\n",
      "Temperature    54.00\n",
      "Pressure       30.44\n",
      "dtype: float64, Radiation       7.73\n",
      "Temperature    55.00\n",
      "Pressure       30.48\n",
      "dtype: float64, Radiation      13.715\n",
      "Temperature    54.000\n",
      "Pressure       30.470\n",
      "dtype: float64, Radiation       2.86\n",
      "Temperature    50.00\n",
      "Pressure       30.37\n",
      "dtype: float64, Radiation       1.61\n",
      "Temperature    44.00\n",
      "Pressure       30.38\n",
      "dtype: float64, Radiation       2.140\n",
      "Temperature    44.000\n",
      "Pressure       30.405\n",
      "dtype: float64, Radiation       2.88\n",
      "Temperature    48.00\n",
      "Pressure       30.43\n",
      "dtype: float64, Radiation      20.82\n",
      "Temperature    51.00\n",
      "Pressure       30.40\n",
      "dtype: float64, Radiation      12.41\n",
      "Temperature    52.00\n",
      "Pressure       30.42\n",
      "dtype: float64, Radiation      12.67\n",
      "Temperature    53.00\n",
      "Pressure       30.45\n",
      "dtype: float64, Radiation      11.855\n",
      "Temperature    56.000\n",
      "Pressure       30.430\n",
      "dtype: float64, Radiation      19.05\n",
      "Temperature    55.00\n",
      "Pressure       30.45\n",
      "dtype: float64, Radiation       4.06\n",
      "Temperature    52.00\n",
      "Pressure       30.44\n",
      "dtype: float64, Radiation       1.31\n",
      "Temperature    47.00\n",
      "Pressure       30.47\n",
      "dtype: float64, Radiation       1.26\n",
      "Temperature    48.00\n",
      "Pressure       30.45\n",
      "dtype: float64, Radiation       1.255\n",
      "Temperature    48.000\n",
      "Pressure       30.410\n",
      "dtype: float64, Radiation       1.25\n",
      "Temperature    47.00\n",
      "Pressure       30.40\n",
      "dtype: float64, Radiation       1.26\n",
      "Temperature    48.00\n",
      "Pressure       30.40\n",
      "dtype: float64, Radiation       1.26\n",
      "Temperature    49.00\n",
      "Pressure       30.42\n",
      "dtype: float64, Radiation       2.32\n",
      "Temperature    51.00\n",
      "Pressure       30.45\n",
      "dtype: float64, Radiation       1.445\n",
      "Temperature    50.000\n",
      "Pressure       30.430\n",
      "dtype: float64, Radiation       1.27\n",
      "Temperature    48.00\n",
      "Pressure       30.40\n",
      "dtype: float64, Radiation       1.32\n",
      "Temperature    48.00\n",
      "Pressure       30.41\n",
      "dtype: float64, Radiation       1.455\n",
      "Temperature    48.000\n",
      "Pressure       30.430\n",
      "dtype: float64, Radiation       1.645\n",
      "Temperature    49.000\n",
      "Pressure       30.450\n",
      "dtype: float64, Radiation       1.545\n",
      "Temperature    52.000\n",
      "Pressure       30.440\n",
      "dtype: float64, Radiation       1.96\n",
      "Temperature    52.00\n",
      "Pressure       30.44\n",
      "dtype: float64, Radiation       2.47\n",
      "Temperature    54.00\n",
      "Pressure       30.46\n",
      "dtype: float64, Radiation       2.425\n",
      "Temperature    56.000\n",
      "Pressure       30.500\n",
      "dtype: float64, Radiation       5.38\n",
      "Temperature    55.00\n",
      "Pressure       30.49\n",
      "dtype: float64, Radiation       5.49\n",
      "Temperature    55.00\n",
      "Pressure       30.46\n",
      "dtype: float64, Radiation       3.71\n",
      "Temperature    53.00\n",
      "Pressure       30.46\n",
      "dtype: float64, Radiation       4.935\n",
      "Temperature    54.000\n",
      "Pressure       30.460\n",
      "dtype: float64, Radiation       4.515\n",
      "Temperature    54.000\n",
      "Pressure       30.430\n",
      "dtype: float64, Radiation       5.57\n",
      "Temperature    53.00\n",
      "Pressure       30.41\n",
      "dtype: float64, Radiation       6.13\n",
      "Temperature    51.00\n",
      "Pressure       30.41\n",
      "dtype: float64, Radiation       6.49\n",
      "Temperature    52.00\n",
      "Pressure       30.40\n",
      "dtype: float64, Radiation       4.375\n",
      "Temperature    51.000\n",
      "Pressure       30.410\n",
      "dtype: float64, Radiation       8.125\n",
      "Temperature    51.000\n",
      "Pressure       30.450\n",
      "dtype: float64, Radiation       4.47\n",
      "Temperature    52.00\n",
      "Pressure       30.45\n",
      "dtype: float64, Radiation       8.23\n",
      "Temperature    52.00\n",
      "Pressure       30.44\n",
      "dtype: float64, Radiation       2.63\n",
      "Temperature    52.00\n",
      "Pressure       30.44\n",
      "dtype: float64, Radiation       4.74\n",
      "Temperature    52.00\n",
      "Pressure       30.44\n",
      "dtype: float64, Radiation       4.15\n",
      "Temperature    52.00\n",
      "Pressure       30.45\n",
      "dtype: float64, Radiation      32.985\n",
      "Temperature    46.000\n",
      "Pressure       30.420\n",
      "dtype: float64, Radiation       1.24\n",
      "Temperature    46.00\n",
      "Pressure       30.44\n",
      "dtype: float64, Radiation       1.25\n",
      "Temperature    47.00\n",
      "Pressure       30.46\n",
      "dtype: float64, Radiation       1.25\n",
      "Temperature    47.00\n",
      "Pressure       30.45\n",
      "dtype: float64, Radiation       1.25\n",
      "Temperature    47.00\n",
      "Pressure       30.47\n",
      "dtype: float64, Radiation       1.24\n",
      "Temperature    46.00\n",
      "Pressure       30.46\n",
      "dtype: float64, Radiation       1.23\n",
      "Temperature    45.00\n",
      "Pressure       30.42\n",
      "dtype: float64, Radiation       1.24\n",
      "Temperature    46.00\n",
      "Pressure       30.42\n",
      "dtype: float64, Radiation       1.24\n",
      "Temperature    50.00\n",
      "Pressure       30.42\n",
      "dtype: float64, Radiation       1.25\n",
      "Temperature    49.00\n",
      "Pressure       30.43\n",
      "dtype: float64, Radiation       1.24\n",
      "Temperature    49.00\n",
      "Pressure       30.43\n",
      "dtype: float64, Radiation       1.25\n",
      "Temperature    48.00\n",
      "Pressure       30.43\n",
      "dtype: float64, Radiation       1.265\n",
      "Temperature    52.000\n",
      "Pressure       30.430\n",
      "dtype: float64, Radiation       1.26\n",
      "Temperature    51.00\n",
      "Pressure       30.44\n",
      "dtype: float64, Radiation       1.25\n",
      "Temperature    49.00\n",
      "Pressure       30.45\n",
      "dtype: float64, Radiation       1.255\n",
      "Temperature    49.500\n",
      "Pressure       30.460\n",
      "dtype: float64, Radiation       1.245\n",
      "Temperature    47.000\n",
      "Pressure       30.450\n",
      "dtype: float64, Radiation       1.26\n",
      "Temperature    50.50\n",
      "Pressure       30.47\n",
      "dtype: float64, Radiation       1.26\n",
      "Temperature    53.00\n",
      "Pressure       30.48\n",
      "dtype: float64, Radiation       1.27\n",
      "Temperature    51.00\n",
      "Pressure       30.45\n",
      "dtype: float64, Radiation       1.27\n",
      "Temperature    51.00\n",
      "Pressure       30.43\n",
      "dtype: float64, Radiation       1.26\n",
      "Temperature    48.00\n",
      "Pressure       30.42\n",
      "dtype: float64, Radiation       1.265\n",
      "Temperature    50.000\n",
      "Pressure       30.440\n",
      "dtype: float64, Radiation       1.29\n",
      "Temperature    55.00\n",
      "Pressure       30.47\n",
      "dtype: float64, Radiation       1.28\n",
      "Temperature    52.00\n",
      "Pressure       30.47\n",
      "dtype: float64, Radiation       1.26\n",
      "Temperature    51.00\n",
      "Pressure       30.45\n",
      "dtype: float64, Radiation       1.29\n",
      "Temperature    52.00\n",
      "Pressure       30.43\n",
      "dtype: float64, Radiation       1.28\n",
      "Temperature    48.00\n",
      "Pressure       30.45\n",
      "dtype: float64, Radiation       1.31\n",
      "Temperature    47.00\n",
      "Pressure       30.47\n",
      "dtype: float64, Radiation       1.24\n",
      "Temperature    45.00\n",
      "Pressure       30.31\n",
      "dtype: float64, Radiation       1.24\n",
      "Temperature    45.00\n",
      "Pressure       30.31\n",
      "dtype: float64, Radiation       1.23\n",
      "Temperature    44.00\n",
      "Pressure       30.34\n",
      "dtype: float64, Radiation       1.225\n",
      "Temperature    44.000\n",
      "Pressure       30.390\n",
      "dtype: float64, Radiation       1.240\n",
      "Temperature    47.000\n",
      "Pressure       30.435\n",
      "dtype: float64, Radiation       1.24\n",
      "Temperature    48.50\n",
      "Pressure       30.45\n",
      "dtype: float64, Radiation       1.25\n",
      "Temperature    47.00\n",
      "Pressure       30.44\n",
      "dtype: float64, Radiation       1.25\n",
      "Temperature    48.00\n",
      "Pressure       30.45\n",
      "dtype: float64, Radiation       1.26\n",
      "Temperature    49.00\n",
      "Pressure       30.45\n",
      "dtype: float64, Radiation       1.26\n",
      "Temperature    51.00\n",
      "Pressure       30.43\n",
      "dtype: float64, Radiation       1.260\n",
      "Temperature    48.000\n",
      "Pressure       30.435\n",
      "dtype: float64, Radiation       1.26\n",
      "Temperature    48.00\n",
      "Pressure       30.51\n",
      "dtype: float64, Radiation       1.27\n",
      "Temperature    49.00\n",
      "Pressure       30.50\n",
      "dtype: float64, Radiation       1.27\n",
      "Temperature    46.00\n",
      "Pressure       30.38\n",
      "dtype: float64, Radiation       1.28\n",
      "Temperature    47.00\n",
      "Pressure       30.27\n",
      "dtype: float64, Radiation       1.26\n",
      "Temperature    48.00\n",
      "Pressure       30.23\n",
      "dtype: float64, Radiation       1.31\n",
      "Temperature    46.00\n",
      "Pressure       30.25\n",
      "dtype: float64, Radiation       1.32\n",
      "Temperature    44.00\n",
      "Pressure       30.28\n",
      "dtype: float64, Radiation       1.33\n",
      "Temperature    44.00\n",
      "Pressure       30.30\n",
      "dtype: float64, Radiation       1.34\n",
      "Temperature    48.00\n",
      "Pressure       30.35\n",
      "dtype: float64, Radiation       1.32\n",
      "Temperature    49.00\n",
      "Pressure       30.39\n",
      "dtype: float64, Radiation       1.31\n",
      "Temperature    49.00\n",
      "Pressure       30.40\n",
      "dtype: float64, Radiation       1.28\n",
      "Temperature    50.00\n",
      "Pressure       30.39\n",
      "dtype: float64, Radiation       4.97\n",
      "Temperature    52.00\n",
      "Pressure       30.38\n",
      "dtype: float64, Radiation       5.71\n",
      "Temperature    45.00\n",
      "Pressure       30.34\n",
      "dtype: float64, Radiation       1.25\n",
      "Temperature    45.00\n",
      "Pressure       30.35\n",
      "dtype: float64, Radiation       1.25\n",
      "Temperature    45.00\n",
      "Pressure       30.32\n",
      "dtype: float64, Radiation       1.24\n",
      "Temperature    45.00\n",
      "Pressure       30.37\n",
      "dtype: float64, Radiation       1.23\n",
      "Temperature    45.00\n",
      "Pressure       30.41\n",
      "dtype: float64]\n"
     ]
    }
   ],
   "source": [
    "m=[]\n",
    "for i in l1_d:\n",
    "    l2=sr2.loc[i].median()\n",
    "    m.append(l2)\n",
    "print(m)"
   ]
  },
  {
   "cell_type": "code",
   "execution_count": 30,
   "id": "da1a7588",
   "metadata": {},
   "outputs": [
    {
     "data": {
      "text/html": [
       "<div>\n",
       "<style scoped>\n",
       "    .dataframe tbody tr th:only-of-type {\n",
       "        vertical-align: middle;\n",
       "    }\n",
       "\n",
       "    .dataframe tbody tr th {\n",
       "        vertical-align: top;\n",
       "    }\n",
       "\n",
       "    .dataframe thead th {\n",
       "        text-align: right;\n",
       "    }\n",
       "</style>\n",
       "<table border=\"1\" class=\"dataframe\">\n",
       "  <thead>\n",
       "    <tr style=\"text-align: right;\">\n",
       "      <th></th>\n",
       "      <th>Radiation</th>\n",
       "      <th>Temperature</th>\n",
       "      <th>Pressure</th>\n",
       "    </tr>\n",
       "  </thead>\n",
       "  <tbody>\n",
       "    <tr>\n",
       "      <th>113</th>\n",
       "      <td>5.71</td>\n",
       "      <td>45.0</td>\n",
       "      <td>30.34</td>\n",
       "    </tr>\n",
       "    <tr>\n",
       "      <th>114</th>\n",
       "      <td>1.25</td>\n",
       "      <td>45.0</td>\n",
       "      <td>30.35</td>\n",
       "    </tr>\n",
       "    <tr>\n",
       "      <th>115</th>\n",
       "      <td>1.25</td>\n",
       "      <td>45.0</td>\n",
       "      <td>30.32</td>\n",
       "    </tr>\n",
       "    <tr>\n",
       "      <th>116</th>\n",
       "      <td>1.24</td>\n",
       "      <td>45.0</td>\n",
       "      <td>30.37</td>\n",
       "    </tr>\n",
       "    <tr>\n",
       "      <th>117</th>\n",
       "      <td>1.23</td>\n",
       "      <td>45.0</td>\n",
       "      <td>30.41</td>\n",
       "    </tr>\n",
       "  </tbody>\n",
       "</table>\n",
       "</div>"
      ],
      "text/plain": [
       "     Radiation  Temperature  Pressure\n",
       "113       5.71         45.0     30.34\n",
       "114       1.25         45.0     30.35\n",
       "115       1.25         45.0     30.32\n",
       "116       1.24         45.0     30.37\n",
       "117       1.23         45.0     30.41"
      ]
     },
     "execution_count": 30,
     "metadata": {},
     "output_type": "execute_result"
    }
   ],
   "source": [
    "d1=pd.DataFrame(m)\n",
    "d1.tail()"
   ]
  },
  {
   "cell_type": "code",
   "execution_count": 31,
   "id": "844896b6",
   "metadata": {},
   "outputs": [
    {
     "data": {
      "text/html": [
       "<div>\n",
       "<style scoped>\n",
       "    .dataframe tbody tr th:only-of-type {\n",
       "        vertical-align: middle;\n",
       "    }\n",
       "\n",
       "    .dataframe tbody tr th {\n",
       "        vertical-align: top;\n",
       "    }\n",
       "\n",
       "    .dataframe thead th {\n",
       "        text-align: right;\n",
       "    }\n",
       "</style>\n",
       "<table border=\"1\" class=\"dataframe\">\n",
       "  <thead>\n",
       "    <tr style=\"text-align: right;\">\n",
       "      <th></th>\n",
       "      <th>Radiation</th>\n",
       "      <th>Temperature</th>\n",
       "      <th>Pressure</th>\n",
       "    </tr>\n",
       "  </thead>\n",
       "  <tbody>\n",
       "    <tr>\n",
       "      <th>count</th>\n",
       "      <td>118.000000</td>\n",
       "      <td>118.000000</td>\n",
       "      <td>118.000000</td>\n",
       "    </tr>\n",
       "    <tr>\n",
       "      <th>mean</th>\n",
       "      <td>5.808305</td>\n",
       "      <td>49.783898</td>\n",
       "      <td>30.421822</td>\n",
       "    </tr>\n",
       "    <tr>\n",
       "      <th>std</th>\n",
       "      <td>21.801788</td>\n",
       "      <td>3.206883</td>\n",
       "      <td>0.049844</td>\n",
       "    </tr>\n",
       "    <tr>\n",
       "      <th>min</th>\n",
       "      <td>1.225000</td>\n",
       "      <td>44.000000</td>\n",
       "      <td>30.230000</td>\n",
       "    </tr>\n",
       "    <tr>\n",
       "      <th>25%</th>\n",
       "      <td>1.260000</td>\n",
       "      <td>47.250000</td>\n",
       "      <td>30.401250</td>\n",
       "    </tr>\n",
       "    <tr>\n",
       "      <th>50%</th>\n",
       "      <td>1.315000</td>\n",
       "      <td>50.000000</td>\n",
       "      <td>30.430000</td>\n",
       "    </tr>\n",
       "    <tr>\n",
       "      <th>75%</th>\n",
       "      <td>5.277500</td>\n",
       "      <td>52.000000</td>\n",
       "      <td>30.450000</td>\n",
       "    </tr>\n",
       "    <tr>\n",
       "      <th>max</th>\n",
       "      <td>234.800000</td>\n",
       "      <td>56.000000</td>\n",
       "      <td>30.510000</td>\n",
       "    </tr>\n",
       "  </tbody>\n",
       "</table>\n",
       "</div>"
      ],
      "text/plain": [
       "        Radiation  Temperature    Pressure\n",
       "count  118.000000   118.000000  118.000000\n",
       "mean     5.808305    49.783898   30.421822\n",
       "std     21.801788     3.206883    0.049844\n",
       "min      1.225000    44.000000   30.230000\n",
       "25%      1.260000    47.250000   30.401250\n",
       "50%      1.315000    50.000000   30.430000\n",
       "75%      5.277500    52.000000   30.450000\n",
       "max    234.800000    56.000000   30.510000"
      ]
     },
     "execution_count": 31,
     "metadata": {},
     "output_type": "execute_result"
    }
   ],
   "source": [
    "d1.describe()"
   ]
  },
  {
   "cell_type": "code",
   "execution_count": 32,
   "id": "5eba92a2",
   "metadata": {},
   "outputs": [
    {
     "data": {
      "text/html": [
       "<div>\n",
       "<style scoped>\n",
       "    .dataframe tbody tr th:only-of-type {\n",
       "        vertical-align: middle;\n",
       "    }\n",
       "\n",
       "    .dataframe tbody tr th {\n",
       "        vertical-align: top;\n",
       "    }\n",
       "\n",
       "    .dataframe thead th {\n",
       "        text-align: right;\n",
       "    }\n",
       "</style>\n",
       "<table border=\"1\" class=\"dataframe\">\n",
       "  <thead>\n",
       "    <tr style=\"text-align: right;\">\n",
       "      <th></th>\n",
       "      <th>Radiation</th>\n",
       "      <th>Temperature</th>\n",
       "      <th>Pressure</th>\n",
       "      <th>Date_modified</th>\n",
       "    </tr>\n",
       "  </thead>\n",
       "  <tbody>\n",
       "    <tr>\n",
       "      <th>0</th>\n",
       "      <td>6.160</td>\n",
       "      <td>51.0</td>\n",
       "      <td>30.44</td>\n",
       "      <td>2016-09-29</td>\n",
       "    </tr>\n",
       "    <tr>\n",
       "      <th>1</th>\n",
       "      <td>6.815</td>\n",
       "      <td>53.0</td>\n",
       "      <td>30.39</td>\n",
       "      <td>2016-09-28</td>\n",
       "    </tr>\n",
       "    <tr>\n",
       "      <th>2</th>\n",
       "      <td>8.450</td>\n",
       "      <td>52.0</td>\n",
       "      <td>30.38</td>\n",
       "      <td>2016-09-27</td>\n",
       "    </tr>\n",
       "    <tr>\n",
       "      <th>3</th>\n",
       "      <td>1.260</td>\n",
       "      <td>49.0</td>\n",
       "      <td>30.42</td>\n",
       "      <td>2016-09-26</td>\n",
       "    </tr>\n",
       "    <tr>\n",
       "      <th>4</th>\n",
       "      <td>10.445</td>\n",
       "      <td>51.0</td>\n",
       "      <td>30.46</td>\n",
       "      <td>2016-09-25</td>\n",
       "    </tr>\n",
       "  </tbody>\n",
       "</table>\n",
       "</div>"
      ],
      "text/plain": [
       "   Radiation  Temperature  Pressure Date_modified\n",
       "0      6.160         51.0     30.44    2016-09-29\n",
       "1      6.815         53.0     30.39    2016-09-28\n",
       "2      8.450         52.0     30.38    2016-09-27\n",
       "3      1.260         49.0     30.42    2016-09-26\n",
       "4     10.445         51.0     30.46    2016-09-25"
      ]
     },
     "execution_count": 32,
     "metadata": {},
     "output_type": "execute_result"
    }
   ],
   "source": [
    "d1['Date_modified']=l1_d\n",
    "d1.head()"
   ]
  },
  {
   "cell_type": "code",
   "execution_count": 33,
   "id": "11354177",
   "metadata": {},
   "outputs": [
    {
     "data": {
      "text/html": [
       "<div>\n",
       "<style scoped>\n",
       "    .dataframe tbody tr th:only-of-type {\n",
       "        vertical-align: middle;\n",
       "    }\n",
       "\n",
       "    .dataframe tbody tr th {\n",
       "        vertical-align: top;\n",
       "    }\n",
       "\n",
       "    .dataframe thead th {\n",
       "        text-align: right;\n",
       "    }\n",
       "</style>\n",
       "<table border=\"1\" class=\"dataframe\">\n",
       "  <thead>\n",
       "    <tr style=\"text-align: right;\">\n",
       "      <th></th>\n",
       "      <th>Radiation</th>\n",
       "      <th>Temperature</th>\n",
       "      <th>Pressure</th>\n",
       "    </tr>\n",
       "    <tr>\n",
       "      <th>Date_modified</th>\n",
       "      <th></th>\n",
       "      <th></th>\n",
       "      <th></th>\n",
       "    </tr>\n",
       "  </thead>\n",
       "  <tbody>\n",
       "    <tr>\n",
       "      <th>2016-09-29</th>\n",
       "      <td>6.160</td>\n",
       "      <td>51.0</td>\n",
       "      <td>30.44</td>\n",
       "    </tr>\n",
       "    <tr>\n",
       "      <th>2016-09-28</th>\n",
       "      <td>6.815</td>\n",
       "      <td>53.0</td>\n",
       "      <td>30.39</td>\n",
       "    </tr>\n",
       "    <tr>\n",
       "      <th>2016-09-27</th>\n",
       "      <td>8.450</td>\n",
       "      <td>52.0</td>\n",
       "      <td>30.38</td>\n",
       "    </tr>\n",
       "    <tr>\n",
       "      <th>2016-09-26</th>\n",
       "      <td>1.260</td>\n",
       "      <td>49.0</td>\n",
       "      <td>30.42</td>\n",
       "    </tr>\n",
       "    <tr>\n",
       "      <th>2016-09-25</th>\n",
       "      <td>10.445</td>\n",
       "      <td>51.0</td>\n",
       "      <td>30.46</td>\n",
       "    </tr>\n",
       "  </tbody>\n",
       "</table>\n",
       "</div>"
      ],
      "text/plain": [
       "               Radiation  Temperature  Pressure\n",
       "Date_modified                                  \n",
       "2016-09-29         6.160         51.0     30.44\n",
       "2016-09-28         6.815         53.0     30.39\n",
       "2016-09-27         8.450         52.0     30.38\n",
       "2016-09-26         1.260         49.0     30.42\n",
       "2016-09-25        10.445         51.0     30.46"
      ]
     },
     "execution_count": 33,
     "metadata": {},
     "output_type": "execute_result"
    }
   ],
   "source": [
    "d1=d1.set_index('Date_modified')\n",
    "d1.head()"
   ]
  },
  {
   "cell_type": "code",
   "execution_count": 35,
   "id": "a4ea227f",
   "metadata": {},
   "outputs": [],
   "source": [
    "Q1=d1['Radiation'].quantile(0.25)\n",
    "Q3=d1['Radiation'].quantile(0.75)"
   ]
  },
  {
   "cell_type": "code",
   "execution_count": 36,
   "id": "3b044df3",
   "metadata": {},
   "outputs": [
    {
     "data": {
      "text/plain": [
       "4.0175"
      ]
     },
     "execution_count": 36,
     "metadata": {},
     "output_type": "execute_result"
    }
   ],
   "source": [
    "IQR=Q3-Q1\n",
    "IQR"
   ]
  },
  {
   "cell_type": "code",
   "execution_count": 37,
   "id": "b8b6fe5e",
   "metadata": {},
   "outputs": [],
   "source": [
    "low_lim=Q1-1.5*IQR\n",
    "upper_lim=Q3+1.5*IQR\n"
   ]
  },
  {
   "cell_type": "code",
   "execution_count": 38,
   "id": "20110efe",
   "metadata": {},
   "outputs": [
    {
     "data": {
      "text/plain": [
       "-4.76625"
      ]
     },
     "execution_count": 38,
     "metadata": {},
     "output_type": "execute_result"
    }
   ],
   "source": [
    "low_lim"
   ]
  },
  {
   "cell_type": "code",
   "execution_count": 39,
   "id": "94167b68",
   "metadata": {},
   "outputs": [
    {
     "name": "stdout",
     "output_type": "stream",
     "text": [
      "10\n"
     ]
    }
   ],
   "source": [
    "# To know the counts of the outlier values \n",
    "outlier=[]\n",
    "for x in d1['Radiation']:\n",
    "    if (x>upper_lim) or (x<low_lim):\n",
    "        outlier.append(x)\n",
    "print(len(outlier))"
   ]
  },
  {
   "cell_type": "code",
   "execution_count": 40,
   "id": "ef12c6dc",
   "metadata": {},
   "outputs": [
    {
     "data": {
      "text/plain": [
       "(108, 3)"
      ]
     },
     "execution_count": 40,
     "metadata": {},
     "output_type": "execute_result"
    }
   ],
   "source": [
    "d1=d1[(d1.Radiation<upper_lim)]\n",
    "d1.shape"
   ]
  },
  {
   "cell_type": "code",
   "execution_count": 41,
   "id": "646ee9fe",
   "metadata": {},
   "outputs": [
    {
     "data": {
      "text/plain": [
       "<AxesSubplot:xlabel='Radiation'>"
      ]
     },
     "execution_count": 41,
     "metadata": {},
     "output_type": "execute_result"
    },
    {
     "data": {
      "image/png": "[encoded data removed]",
      "text/plain": [
       "<Figure size 432x288 with 1 Axes>"
      ]
     },
     "metadata": {
      "needs_background": "light"
     },
     "output_type": "display_data"
    }
   ],
   "source": [
    "sns.boxplot(x='Radiation',data=d1)"
   ]
  },
  {
   "cell_type": "code",
   "execution_count": 42,
   "id": "848252d0",
   "metadata": {},
   "outputs": [
    {
     "data": {
      "image/png": "[encoded data removed]",
      "text/plain": [
       "<Figure size 432x288 with 1 Axes>"
      ]
     },
     "metadata": {
      "needs_background": "light"
     },
     "output_type": "display_data"
    }
   ],
   "source": [
    "plt.hist(d1.Radiation,bins=10,rwidth=0.8)\n",
    "plt.xlabel('Solar Radiation')\n",
    "plt.ylabel('Counts')\n",
    "plt.show()"
   ]
  },
  {
   "cell_type": "code",
   "execution_count": 43,
   "id": "c3ed950b",
   "metadata": {},
   "outputs": [
    {
     "data": {
      "text/plain": [
       "<AxesSubplot:xlabel='Radiation'>"
      ]
     },
     "execution_count": 43,
     "metadata": {},
     "output_type": "execute_result"
    },
    {
     "data": {
      "image/png": "[encoded data removed]",
      "text/plain": [
       "<Figure size 432x288 with 1 Axes>"
      ]
     },
     "metadata": {
      "needs_background": "light"
     },
     "output_type": "display_data"
    }
   ],
   "source": [
    "sns.boxplot(x='Radiation',data=d1)"
   ]
  },
  {
   "cell_type": "code",
   "execution_count": 44,
   "id": "5ce43c76",
   "metadata": {},
   "outputs": [],
   "source": [
    "corelation=d1.corr()"
   ]
  },
  {
   "cell_type": "code",
   "execution_count": 45,
   "id": "853fd689",
   "metadata": {},
   "outputs": [
    {
     "data": {
      "text/plain": [
       "<AxesSubplot:>"
      ]
     },
     "execution_count": 45,
     "metadata": {},
     "output_type": "execute_result"
    },
    {
     "data": {
      "image/png": "[encoded data removed]",
      "text/plain": [
       "<Figure size 432x288 with 2 Axes>"
      ]
     },
     "metadata": {
      "needs_background": "light"
     },
     "output_type": "display_data"
    }
   ],
   "source": [
    "sns.heatmap(corelation,xticklabels=corelation.columns,yticklabels=corelation.columns,annot=True)"
   ]
  },
  {
   "cell_type": "code",
   "execution_count": 46,
   "id": "f47572f3",
   "metadata": {},
   "outputs": [],
   "source": [
    "# Radiation has more corelation with the temperature "
   ]
  },
  {
   "cell_type": "code",
   "execution_count": 47,
   "id": "0f4484c9",
   "metadata": {},
   "outputs": [
    {
     "data": {
      "text/plain": [
       "<seaborn.axisgrid.FacetGrid at 0x15162b65d00>"
      ]
     },
     "execution_count": 47,
     "metadata": {},
     "output_type": "execute_result"
    },
    {
     "data": {
      "image/png": "[encoded data removed]",
      "text/plain": [
       "<Figure size 360x360 with 1 Axes>"
      ]
     },
     "metadata": {
      "needs_background": "light"
     },
     "output_type": "display_data"
    }
   ],
   "source": [
    "sns.relplot(x='Temperature',y='Radiation',data=d1)"
   ]
  },
  {
   "cell_type": "code",
   "execution_count": 48,
   "id": "0b38c29b",
   "metadata": {},
   "outputs": [
    {
     "name": "stderr",
     "output_type": "stream",
     "text": [
      "C:\\Users\\ABC\\anaconda3\\lib\\site-packages\\seaborn\\distributions.py:2557: FutureWarning: `distplot` is a deprecated function and will be removed in a future version. Please adapt your code to use either `displot` (a figure-level function with similar flexibility) or `histplot` (an axes-level function for histograms).\n",
      "  warnings.warn(msg, FutureWarning)\n"
     ]
    },
    {
     "data": {
      "text/plain": [
       "<AxesSubplot:xlabel='Radiation', ylabel='Density'>"
      ]
     },
     "execution_count": 48,
     "metadata": {},
     "output_type": "execute_result"
    },
    {
     "data": {
      "image/png": "[encoded data removed]",
      "text/plain": [
       "<Figure size 432x288 with 1 Axes>"
      ]
     },
     "metadata": {
      "needs_background": "light"
     },
     "output_type": "display_data"
    }
   ],
   "source": [
    "sns.distplot(d1['Radiation'])"
   ]
  },
  {
   "cell_type": "code",
   "execution_count": 49,
   "id": "49e3ad76",
   "metadata": {},
   "outputs": [],
   "source": [
    "import scipy \n",
    "from scipy.stats import spearmanr"
   ]
  },
  {
   "cell_type": "code",
   "execution_count": 50,
   "id": "af68a910",
   "metadata": {},
   "outputs": [
    {
     "name": "stdout",
     "output_type": "stream",
     "text": [
      "0.659380955026571\n"
     ]
    }
   ],
   "source": [
    "spearmanr_coefficient,p_value=spearmanr(d1['Radiation'],d1['Temperature'])# Since the data is not normally distributed \n",
    "print(spearmanr_coefficient)"
   ]
  },
  {
   "cell_type": "code",
   "execution_count": 51,
   "id": "1a469258",
   "metadata": {},
   "outputs": [],
   "source": [
    "#According to spearmanr corelation coefficient temperature, pressure and exposure time is corelated with radiation"
   ]
  },
  {
   "cell_type": "markdown",
   "id": "4aa6d6ca",
   "metadata": {},
   "source": [
    "# Model Creation"
   ]
  },
  {
   "cell_type": "code",
   "execution_count": 52,
   "id": "b92ee0f7",
   "metadata": {},
   "outputs": [
    {
     "data": {
      "text/plain": [
       "<AxesSubplot:xlabel='Date_modified', ylabel='Radiation'>"
      ]
     },
     "execution_count": 52,
     "metadata": {},
     "output_type": "execute_result"
    },
    {
     "data": {
      "image/png": "[encoded data removed]",
      "text/plain": [
       "<Figure size 720x432 with 1 Axes>"
      ]
     },
     "metadata": {
      "needs_background": "light"
     },
     "output_type": "display_data"
    }
   ],
   "source": [
    "from datetime import datetime\n",
    "from matplotlib.pylab import rcParams\n",
    "rcParams['figure.figsize']=10,6\n",
    "sns.lineplot(data=d1,x='Date_modified',y='Radiation')"
   ]
  },
  {
   "cell_type": "code",
   "execution_count": 53,
   "id": "52340529",
   "metadata": {},
   "outputs": [
    {
     "name": "stdout",
     "output_type": "stream",
     "text": [
      "               Radiation  Temperature   Pressure\n",
      "Date_modified                                   \n",
      "2016-09-29           NaN          NaN        NaN\n",
      "2016-09-28           NaN          NaN        NaN\n",
      "2016-09-27           NaN          NaN        NaN\n",
      "2016-09-26           NaN          NaN        NaN\n",
      "2016-09-25           NaN          NaN        NaN\n",
      "...                  ...          ...        ...\n",
      "2016-12-05      1.975000    47.333333  30.330000\n",
      "2016-12-04      1.973333    47.250000  30.327500\n",
      "2016-12-03      1.970833    47.083333  30.331667\n",
      "2016-12-02      1.969167    46.833333  30.343333\n",
      "2016-12-01      1.962500    46.750000  30.356667\n",
      "\n",
      "[108 rows x 3 columns]                Radiation  Temperature  Pressure\n",
      "Date_modified                                  \n",
      "2016-09-29           NaN          NaN       NaN\n",
      "2016-09-28           NaN          NaN       NaN\n",
      "2016-09-27           NaN          NaN       NaN\n",
      "2016-09-26           NaN          NaN       NaN\n",
      "2016-09-25           NaN          NaN       NaN\n",
      "...                  ...          ...       ...\n",
      "2016-12-05      1.579882     2.461830  0.061051\n",
      "2016-12-04      1.580704     2.527126  0.059410\n",
      "2016-12-03      1.581923     2.609714  0.056702\n",
      "2016-12-02      1.582751     2.657180  0.047546\n",
      "2016-12-01      1.585945     2.701010  0.040973\n",
      "\n",
      "[108 rows x 3 columns]\n"
     ]
    }
   ],
   "source": [
    "rolmean=d1.rolling(window=12).mean()\n",
    "rolstd=d1.rolling(window=12).std()\n",
    "print(rolmean,rolstd)"
   ]
  },
  {
   "cell_type": "code",
   "execution_count": 54,
   "id": "b6bb2cc4",
   "metadata": {},
   "outputs": [
    {
     "data": {
      "image/png": "[encoded data removed]",
      "text/plain": [
       "<Figure size 1440x576 with 1 Axes>"
      ]
     },
     "metadata": {
      "needs_background": "light"
     },
     "output_type": "display_data"
    }
   ],
   "source": [
    "rcParams['figure.figsize']=20,8\n",
    "plt.plot(d1['Radiation'],color='blue')\n",
    "#plt.plot(rolmean,color='black',label='Rolling mean')\n",
    "#plt.plot(rolstd,color='red',label='Rolling std')\n",
    "plt.show(block=False)"
   ]
  },
  {
   "cell_type": "code",
   "execution_count": 55,
   "id": "c120a5fe",
   "metadata": {},
   "outputs": [
    {
     "data": {
      "text/plain": [
       "[<matplotlib.lines.Line2D at 0x151633e8c40>,\n",
       " <matplotlib.lines.Line2D at 0x151633e8c70>,\n",
       " <matplotlib.lines.Line2D at 0x151633e8d30>]"
      ]
     },
     "execution_count": 55,
     "metadata": {},
     "output_type": "execute_result"
    },
    {
     "data": {
      "image/png": "[encoded data removed]",
      "text/plain": [
       "<Figure size 1440x576 with 1 Axes>"
      ]
     },
     "metadata": {
      "needs_background": "light"
     },
     "output_type": "display_data"
    }
   ],
   "source": [
    "plt.plot(rolmean,color='black',label='Rolling mean')\n",
    "plt.plot(rolstd,color='red',label='Rolling std')"
   ]
  },
  {
   "cell_type": "code",
   "execution_count": 56,
   "id": "efad815f",
   "metadata": {},
   "outputs": [
    {
     "name": "stdout",
     "output_type": "stream",
     "text": [
      "Results of dicky fuller test:\n",
      "Test statistic                  -4.859871\n",
      "p-value                          0.000042\n",
      "Lags Used                        1.000000\n",
      "Number of Observations Used    106.000000\n",
      "Critical Value (1%)             -3.493602\n",
      "Critical Value (5%)             -2.889217\n",
      "Critical Value (10%)            -2.581533\n",
      "dtype: float64\n"
     ]
    }
   ],
   "source": [
    "#Perform Dicky fuller test\n",
    "from statsmodels.tsa.stattools import adfuller\n",
    "print('Results of dicky fuller test:')\n",
    "dftest=adfuller(d1['Pressure'],autolag='AIC')\n",
    "dfoutput=pd.Series(dftest[0:4],index=['Test statistic','p-value','Lags Used','Number of Observations Used'])\n",
    "for key,value in dftest[4].items():\n",
    "    dfoutput['Critical Value (%s)'%key]=value\n",
    "print(dfoutput)"
   ]
  },
  {
   "cell_type": "code",
   "execution_count": 57,
   "id": "7182813b",
   "metadata": {},
   "outputs": [],
   "source": [
    "from statsmodels.tsa.stattools import adfuller\n",
    "def test_stationarity(timeseries):\n",
    "    movingAverage=timeseries.rolling(window=12).mean()\n",
    "    movingSTD=timeseries.rolling(window=12).std()\n",
    "    \n",
    "    orig=plt.plot(timeseries,color='blue',label='Original')\n",
    "    mean=plt.plot(movingAverage,color='Red',label='rolling mean')\n",
    "    std=plt.plot(movingSTD,color='black',label='rolling std')\n",
    "    plt.title('Rolling mean & standard deviation')\n",
    "    plt.show()\n",
    "    \n",
    "    \n",
    "    print('Results of dicky fuller test:')\n",
    "    dftest=adfuller(d1['Radiation'],autolag='AIC')\n",
    "    dfoutput=pd.Series(dftest[0:4],index=['Test statistic','p-value','Lags Used','Number of Observations Used'])\n",
    "    for key,value in dftest[4].items():\n",
    "        dfoutput['Critical Value (%s)'%key]=value\n",
    "    print(dfoutput)\n",
    "    "
   ]
  },
  {
   "cell_type": "code",
   "execution_count": 58,
   "id": "1e31313b",
   "metadata": {
    "scrolled": true
   },
   "outputs": [
    {
     "data": {
      "image/png": "[encoded data removed]",
      "text/plain": [
       "<Figure size 1440x576 with 1 Axes>"
      ]
     },
     "metadata": {
      "needs_background": "light"
     },
     "output_type": "display_data"
    },
    {
     "name": "stdout",
     "output_type": "stream",
     "text": [
      "Results of dicky fuller test:\n",
      "Test statistic                  -2.656509\n",
      "p-value                          0.081871\n",
      "Lags Used                        2.000000\n",
      "Number of Observations Used    105.000000\n",
      "Critical Value (1%)             -3.494220\n",
      "Critical Value (5%)             -2.889485\n",
      "Critical Value (10%)            -2.581676\n",
      "dtype: float64\n"
     ]
    }
   ],
   "source": [
    "test_stationarity(d1)"
   ]
  },
  {
   "cell_type": "code",
   "execution_count": 59,
   "id": "112ae33c",
   "metadata": {},
   "outputs": [],
   "source": [
    "from statsmodels.tsa.stattools import grangercausalitytests\n",
    "import statsmodels.api as sm\n",
    "from statsmodels.tsa.api import VAR\n"
   ]
  },
  {
   "cell_type": "code",
   "execution_count": 60,
   "id": "992c1359",
   "metadata": {},
   "outputs": [
    {
     "name": "stdout",
     "output_type": "stream",
     "text": [
      "Radiation- the series is stationery\n",
      "Temperature- the series is not stationery\n",
      "Pressure- the series is not stationery\n"
     ]
    }
   ],
   "source": [
    "for i in range(len(d1.columns)):\n",
    "    result=adfuller(d1[d1.columns[i]])\n",
    "    \n",
    "    if result[i]>0.05:\n",
    "        print('{}- the series is not stationery'.format(d1.columns[i]))\n",
    "    else:\n",
    "        print('{}- the series is stationery'.format(d1.columns[i]))"
   ]
  },
  {
   "cell_type": "code",
   "execution_count": 61,
   "id": "f8f5d9d0",
   "metadata": {},
   "outputs": [],
   "source": [
    "max_lags=8\n",
    "y='Radiation'"
   ]
  },
  {
   "cell_type": "code",
   "execution_count": 62,
   "id": "fd6df176",
   "metadata": {},
   "outputs": [
    {
     "name": "stdout",
     "output_type": "stream",
     "text": [
      "Column-Temperature:P-Values-[0.0401, 0.2647, 0.041, 0.1174, 0.0949, 0.1129, 0.1885, 0.161]\n",
      "Column-Pressure:P-Values-[0.6643, 0.8975, 0.5913, 0.812, 0.9695, 0.8571, 0.981, 0.9789]\n"
     ]
    }
   ],
   "source": [
    "for i in range(len(d1.columns)-1):\n",
    "    results=grangercausalitytests(d1[[y,d1.columns[i+1]]],max_lags,verbose=False)\n",
    "    p_values=[round(results[i+1][0]['ssr_ftest'][1],4) for i in range(max_lags)]\n",
    "    print('Column-{}:P-Values-{}'.format(d1.columns[i+1],p_values))"
   ]
  },
  {
   "cell_type": "code",
   "execution_count": 63,
   "id": "1a4a17eb",
   "metadata": {},
   "outputs": [],
   "source": [
    "from statsmodels.tsa.api import VAR"
   ]
  },
  {
   "cell_type": "code",
   "execution_count": 64,
   "id": "b867067b",
   "metadata": {},
   "outputs": [],
   "source": [
    "sr_train=d1[0:-12]\n",
    "sr_test=d1[-12:]"
   ]
  },
  {
   "cell_type": "code",
   "execution_count": 65,
   "id": "5e8aba0d",
   "metadata": {},
   "outputs": [
    {
     "data": {
      "text/plain": [
       "(96, 3)"
      ]
     },
     "execution_count": 65,
     "metadata": {},
     "output_type": "execute_result"
    }
   ],
   "source": [
    "sr_train.shape"
   ]
  },
  {
   "cell_type": "code",
   "execution_count": 66,
   "id": "cd9bd467",
   "metadata": {},
   "outputs": [
    {
     "data": {
      "text/plain": [
       "(12, 3)"
      ]
     },
     "execution_count": 66,
     "metadata": {},
     "output_type": "execute_result"
    }
   ],
   "source": [
    "sr_test.shape"
   ]
  },
  {
   "cell_type": "code",
   "execution_count": 67,
   "id": "4222794f",
   "metadata": {},
   "outputs": [
    {
     "name": "stdout",
     "output_type": "stream",
     "text": [
      "Order= 1\n",
      "AIC: -4.090063621992516\n",
      "BIC: -3.7674686462113947\n",
      "Order= 2\n",
      "AIC: -4.440380056292917\n",
      "BIC: -3.87219717940281\n",
      "Order= 3\n",
      "AIC: -4.574589549614497\n",
      "BIC: -3.757621971177963\n",
      "Order= 4\n",
      "AIC: -4.534859357263507\n",
      "BIC: -3.4658402865579347\n",
      "Order= 5\n",
      "AIC: -4.444589166729296\n",
      "BIC: -3.12017975669843\n",
      "Order= 6\n",
      "AIC: -4.387333472599818\n",
      "BIC: -2.80412068139065\n",
      "Order= 7\n",
      "AIC: -4.521602992867367\n",
      "BIC: -2.6760973703693756\n",
      "Order= 8\n",
      "AIC: -4.5327177947086295\n",
      "BIC: -2.421351191460158\n",
      "Order= 9\n",
      "AIC: -4.592594963411054\n",
      "BIC: -2.211718159192835\n",
      "Order= 10\n",
      "AIC: -4.6382810797260685\n",
      "BIC: -1.9841613291263451\n",
      "Order= 11\n",
      "AIC: -4.474709655002243\n",
      "BIC: -1.5435281472138627\n",
      "Order= 12\n",
      "AIC: -4.5190360190239485\n",
      "BIC: -1.3068852491238552\n",
      "Order= 13\n",
      "AIC: -4.681037545590325\n",
      "BIC: -1.183918594559099\n",
      "Order= 14\n",
      "AIC: -4.578632142050397\n",
      "BIC: -0.7924518628176083\n",
      "Order= 15\n",
      "AIC: -4.541884910810441\n",
      "BIC: -0.46245301766480384\n",
      "Order= 16\n",
      "AIC: -4.789571057048594\n",
      "BIC: -0.41259711583533765\n",
      "Order= 17\n",
      "AIC: -5.018607525769239\n",
      "BIC: -0.3396978424166388\n",
      "Order= 18\n",
      "AIC: -5.310219223088867\n",
      "BIC: -0.3248736281685769\n",
      "Order= 19\n",
      "AIC: -5.469426152486229\n",
      "BIC: -0.17303467972595676\n",
      "Order= 20\n",
      "AIC: -5.477893635396706\n",
      "BIC: 0.13426690766117133\n"
     ]
    },
    {
     "name": "stderr",
     "output_type": "stream",
     "text": [
      "C:\\Users\\ABC\\anaconda3\\lib\\site-packages\\statsmodels\\tsa\\base\\tsa_model.py:581: ValueWarning: A date index has been provided, but it has no associated frequency information and so will be ignored when e.g. forecasting.\n",
      "  warnings.warn('A date index has been provided, but it has no'\n",
      "C:\\Users\\ABC\\anaconda3\\lib\\site-packages\\statsmodels\\tsa\\base\\tsa_model.py:585: ValueWarning: A date index has been provided, but it is not monotonic and so will be ignored when e.g. forecasting.\n",
      "  warnings.warn('A date index has been provided, but it is not'\n"
     ]
    }
   ],
   "source": [
    "model=VAR(sr_train)\n",
    "for i in range(20):\n",
    "    results=model.fit(i+1)\n",
    "    print('Order=',i+1)\n",
    "    print('AIC:',results.aic)\n",
    "    print('BIC:',results.bic)"
   ]
  },
  {
   "cell_type": "code",
   "execution_count": 68,
   "id": "f6bfc9e3",
   "metadata": {},
   "outputs": [
    {
     "data": {
      "text/html": [
       "<table class=\"simpletable\">\n",
       "<caption>VAR Order Selection (* highlights the minimums)</caption>\n",
       "<tr>\n",
       "   <td></td>      <th>AIC</th>         <th>BIC</th>         <th>FPE</th>        <th>HQIC</th>    \n",
       "</tr>\n",
       "<tr>\n",
       "  <th>0</th>  <td>    -3.376</td>  <td>    -3.284</td>  <td>   0.03417</td>  <td>    -3.340</td> \n",
       "</tr>\n",
       "<tr>\n",
       "  <th>1</th>  <td>    -5.271</td>  <td>    -4.903</td>  <td>  0.005139</td>  <td>    -5.124</td> \n",
       "</tr>\n",
       "<tr>\n",
       "  <th>2</th>  <td>    -5.814*</td> <td>    -5.170*</td> <td>  0.002990*</td> <td>    -5.557*</td>\n",
       "</tr>\n",
       "<tr>\n",
       "  <th>3</th>  <td>    -5.659</td>  <td>    -4.739</td>  <td>  0.003502</td>  <td>    -5.291</td> \n",
       "</tr>\n",
       "<tr>\n",
       "  <th>4</th>  <td>    -5.564</td>  <td>    -4.368</td>  <td>  0.003873</td>  <td>    -5.086</td> \n",
       "</tr>\n",
       "<tr>\n",
       "  <th>5</th>  <td>    -5.406</td>  <td>    -3.934</td>  <td>  0.004577</td>  <td>    -4.818</td> \n",
       "</tr>\n",
       "<tr>\n",
       "  <th>6</th>  <td>    -5.382</td>  <td>    -3.634</td>  <td>  0.004749</td>  <td>    -4.684</td> \n",
       "</tr>\n",
       "<tr>\n",
       "  <th>7</th>  <td>    -5.295</td>  <td>    -3.271</td>  <td>  0.005279</td>  <td>    -4.486</td> \n",
       "</tr>\n",
       "<tr>\n",
       "  <th>8</th>  <td>    -5.075</td>  <td>    -2.775</td>  <td>  0.006744</td>  <td>    -4.156</td> \n",
       "</tr>\n",
       "<tr>\n",
       "  <th>9</th>  <td>    -4.917</td>  <td>    -2.341</td>  <td>  0.008162</td>  <td>    -3.888</td> \n",
       "</tr>\n",
       "<tr>\n",
       "  <th>10</th> <td>    -4.914</td>  <td>    -2.062</td>  <td>  0.008544</td>  <td>    -3.774</td> \n",
       "</tr>\n",
       "<tr>\n",
       "  <th>11</th> <td>    -4.729</td>  <td>    -1.601</td>  <td>   0.01084</td>  <td>    -3.479</td> \n",
       "</tr>\n",
       "<tr>\n",
       "  <th>12</th> <td>    -4.781</td>  <td>    -1.377</td>  <td>   0.01099</td>  <td>    -3.421</td> \n",
       "</tr>\n",
       "<tr>\n",
       "  <th>13</th> <td>    -4.944</td>  <td>    -1.264</td>  <td>   0.01013</td>  <td>    -3.473</td> \n",
       "</tr>\n",
       "<tr>\n",
       "  <th>14</th> <td>    -4.830</td>  <td>   -0.8744</td>  <td>   0.01256</td>  <td>    -3.249</td> \n",
       "</tr>\n",
       "<tr>\n",
       "  <th>15</th> <td>    -4.785</td>  <td>   -0.5530</td>  <td>   0.01487</td>  <td>    -3.094</td> \n",
       "</tr>\n",
       "<tr>\n",
       "  <th>16</th> <td>    -4.842</td>  <td>   -0.3342</td>  <td>   0.01635</td>  <td>    -3.041</td> \n",
       "</tr>\n",
       "<tr>\n",
       "  <th>17</th> <td>    -4.915</td>  <td>   -0.1306</td>  <td>   0.01835</td>  <td>    -3.003</td> \n",
       "</tr>\n",
       "<tr>\n",
       "  <th>18</th> <td>    -5.166</td>  <td>   -0.1056</td>  <td>   0.01803</td>  <td>    -3.143</td> \n",
       "</tr>\n",
       "<tr>\n",
       "  <th>19</th> <td>    -5.384</td>  <td>  -0.04750</td>  <td>   0.01944</td>  <td>    -3.251</td> \n",
       "</tr>\n",
       "<tr>\n",
       "  <th>20</th> <td>    -5.478</td>  <td>    0.1343</td>  <td>   0.02579</td>  <td>    -3.235</td> \n",
       "</tr>\n",
       "</table>"
      ],
      "text/plain": [
       "<class 'statsmodels.iolib.table.SimpleTable'>"
      ]
     },
     "execution_count": 68,
     "metadata": {},
     "output_type": "execute_result"
    }
   ],
   "source": [
    "model.select_order(20).summary()"
   ]
  },
  {
   "cell_type": "code",
   "execution_count": 69,
   "id": "3ee8a98a",
   "metadata": {},
   "outputs": [],
   "source": [
    "results=model.fit(2)"
   ]
  },
  {
   "cell_type": "code",
   "execution_count": 70,
   "id": "ba4bc79e",
   "metadata": {},
   "outputs": [
    {
     "name": "stdout",
     "output_type": "stream",
     "text": [
      "  Summary of Regression Results   \n",
      "==================================\n",
      "Model:                         VAR\n",
      "Method:                        OLS\n",
      "Date:           Fri, 24, Dec, 2021\n",
      "Time:                     14:52:40\n",
      "--------------------------------------------------------------------\n",
      "No. of Equations:         3.00000    BIC:                   -3.87220\n",
      "Nobs:                     94.0000    HQIC:                  -4.21088\n",
      "Log likelihood:          -170.443    FPE:                  0.0118012\n",
      "AIC:                     -4.44038    Det(Omega_mle):      0.00951364\n",
      "--------------------------------------------------------------------\n",
      "Results for equation Radiation\n",
      "=================================================================================\n",
      "                    coefficient       std. error           t-stat            prob\n",
      "---------------------------------------------------------------------------------\n",
      "const                212.635644       183.038769            1.162           0.245\n",
      "L1.Radiation           0.262003         0.106306            2.465           0.014\n",
      "L1.Temperature         0.037425         0.107688            0.348           0.728\n",
      "L1.Pressure            1.436420         5.939459            0.242           0.809\n",
      "L2.Radiation           0.383409         0.105223            3.644           0.000\n",
      "L2.Temperature         0.106201         0.106849            0.994           0.320\n",
      "L2.Pressure           -8.628510         7.066454           -1.221           0.222\n",
      "=================================================================================\n",
      "\n",
      "Results for equation Temperature\n",
      "=================================================================================\n",
      "                    coefficient       std. error           t-stat            prob\n",
      "---------------------------------------------------------------------------------\n",
      "const               -115.524537       208.834047           -0.553           0.580\n",
      "L1.Radiation           0.124028         0.121288            1.023           0.307\n",
      "L1.Temperature         0.650664         0.122864            5.296           0.000\n",
      "L1.Pressure           13.391135         6.776495            1.976           0.048\n",
      "L2.Radiation          -0.030262         0.120052           -0.252           0.801\n",
      "L2.Temperature        -0.041220         0.121907           -0.338           0.735\n",
      "L2.Pressure           -8.965514         8.062315           -1.112           0.266\n",
      "=================================================================================\n",
      "\n",
      "Results for equation Pressure\n",
      "=================================================================================\n",
      "                    coefficient       std. error           t-stat            prob\n",
      "---------------------------------------------------------------------------------\n",
      "const                 15.203822         3.116344            4.879           0.000\n",
      "L1.Radiation           0.000294         0.001810            0.162           0.871\n",
      "L1.Temperature        -0.000505         0.001833           -0.275           0.783\n",
      "L1.Pressure            1.027381         0.101123           10.160           0.000\n",
      "L2.Radiation          -0.002117         0.001791           -1.182           0.237\n",
      "L2.Temperature         0.002998         0.001819            1.648           0.099\n",
      "L2.Pressure           -0.530936         0.120311           -4.413           0.000\n",
      "=================================================================================\n",
      "\n",
      "Correlation matrix of residuals\n",
      "               Radiation  Temperature  Pressure\n",
      "Radiation       1.000000     0.501813  0.131665\n",
      "Temperature     0.501813     1.000000  0.314864\n",
      "Pressure        0.131665     0.314864  1.000000\n",
      "\n",
      "\n",
      "\n"
     ]
    }
   ],
   "source": [
    "print(results.summary())"
   ]
  },
  {
   "cell_type": "code",
   "execution_count": 71,
   "id": "c86d730a",
   "metadata": {},
   "outputs": [
    {
     "name": "stdout",
     "output_type": "stream",
     "text": [
      "2\n"
     ]
    }
   ],
   "source": [
    "lag_order=results.k_ar\n",
    "print(lag_order)"
   ]
  },
  {
   "cell_type": "code",
   "execution_count": 72,
   "id": "4f761772",
   "metadata": {},
   "outputs": [],
   "source": [
    "forecast_input=results.forecast(sr_train.values[-lag_order:],steps=len(sr_test))"
   ]
  },
  {
   "cell_type": "code",
   "execution_count": 73,
   "id": "d834cd71",
   "metadata": {},
   "outputs": [
    {
     "data": {
      "text/html": [
       "<div>\n",
       "<style scoped>\n",
       "    .dataframe tbody tr th:only-of-type {\n",
       "        vertical-align: middle;\n",
       "    }\n",
       "\n",
       "    .dataframe tbody tr th {\n",
       "        vertical-align: top;\n",
       "    }\n",
       "\n",
       "    .dataframe thead th {\n",
       "        text-align: right;\n",
       "    }\n",
       "</style>\n",
       "<table border=\"1\" class=\"dataframe\">\n",
       "  <thead>\n",
       "    <tr style=\"text-align: right;\">\n",
       "      <th></th>\n",
       "      <th>Radiation_forecast</th>\n",
       "      <th>Temperature_forecast</th>\n",
       "      <th>Pressure_forecast</th>\n",
       "    </tr>\n",
       "  </thead>\n",
       "  <tbody>\n",
       "    <tr>\n",
       "      <th>count</th>\n",
       "      <td>12.000000</td>\n",
       "      <td>12.000000</td>\n",
       "      <td>12.000000</td>\n",
       "    </tr>\n",
       "    <tr>\n",
       "      <th>mean</th>\n",
       "      <td>2.719784</td>\n",
       "      <td>49.402253</td>\n",
       "      <td>30.429074</td>\n",
       "    </tr>\n",
       "    <tr>\n",
       "      <th>std</th>\n",
       "      <td>0.223732</td>\n",
       "      <td>0.995120</td>\n",
       "      <td>0.029136</td>\n",
       "    </tr>\n",
       "    <tr>\n",
       "      <th>min</th>\n",
       "      <td>2.503351</td>\n",
       "      <td>46.606143</td>\n",
       "      <td>30.350292</td>\n",
       "    </tr>\n",
       "    <tr>\n",
       "      <th>25%</th>\n",
       "      <td>2.590014</td>\n",
       "      <td>49.532497</td>\n",
       "      <td>30.424583</td>\n",
       "    </tr>\n",
       "    <tr>\n",
       "      <th>50%</th>\n",
       "      <td>2.612810</td>\n",
       "      <td>49.644158</td>\n",
       "      <td>30.430535</td>\n",
       "    </tr>\n",
       "    <tr>\n",
       "      <th>75%</th>\n",
       "      <td>2.831051</td>\n",
       "      <td>49.827962</td>\n",
       "      <td>30.437819</td>\n",
       "    </tr>\n",
       "    <tr>\n",
       "      <th>max</th>\n",
       "      <td>3.164093</td>\n",
       "      <td>50.357836</td>\n",
       "      <td>30.469968</td>\n",
       "    </tr>\n",
       "  </tbody>\n",
       "</table>\n",
       "</div>"
      ],
      "text/plain": [
       "       Radiation_forecast  Temperature_forecast  Pressure_forecast\n",
       "count           12.000000             12.000000          12.000000\n",
       "mean             2.719784             49.402253          30.429074\n",
       "std              0.223732              0.995120           0.029136\n",
       "min              2.503351             46.606143          30.350292\n",
       "25%              2.590014             49.532497          30.424583\n",
       "50%              2.612810             49.644158          30.430535\n",
       "75%              2.831051             49.827962          30.437819\n",
       "max              3.164093             50.357836          30.469968"
      ]
     },
     "execution_count": 73,
     "metadata": {},
     "output_type": "execute_result"
    }
   ],
   "source": [
    "sr_forecast=pd.DataFrame(forecast_input,index=d1.index[-len(sr_test):],columns=d1.columns+'_forecast')\n",
    "sr_forecast.describe()"
   ]
  },
  {
   "cell_type": "code",
   "execution_count": 74,
   "id": "518fda35",
   "metadata": {},
   "outputs": [],
   "source": [
    "r1=sr_forecast.loc[:,['Radiation_forecast']]"
   ]
  },
  {
   "cell_type": "code",
   "execution_count": 75,
   "id": "12298eb8",
   "metadata": {},
   "outputs": [
    {
     "data": {
      "text/plain": [
       "Date_modified\n",
       "2016-12-14    2.893023\n",
       "2016-12-13    3.108725\n",
       "2016-12-12    3.164093\n",
       "2016-12-11    2.810393\n",
       "2016-12-10    2.610270\n",
       "Name: Radiation_forecast, dtype: float64"
      ]
     },
     "execution_count": 75,
     "metadata": {},
     "output_type": "execute_result"
    }
   ],
   "source": [
    "predictions=sr_forecast['Radiation_forecast']\n",
    "predictions.head()"
   ]
  },
  {
   "cell_type": "code",
   "execution_count": 76,
   "id": "75175fb3",
   "metadata": {},
   "outputs": [
    {
     "data": {
      "image/png": "[encoded data removed]",
      "text/plain": [
       "<Figure size 1440x576 with 1 Axes>"
      ]
     },
     "metadata": {
      "needs_background": "light"
     },
     "output_type": "display_data"
    }
   ],
   "source": [
    "plt.plot(r1,color='blue',label='Forecasted radiation values')\n",
    "plt.plot(sr_test.loc[:,['Radiation']],label='test data',color='red')\n",
    "plt.title('Forecast values')\n",
    "plt.show()"
   ]
  },
  {
   "cell_type": "code",
   "execution_count": 77,
   "id": "c6f5636c",
   "metadata": {},
   "outputs": [
    {
     "name": "stdout",
     "output_type": "stream",
     "text": [
      "1.7706463677488178\n"
     ]
    }
   ],
   "source": [
    "import sklearn.metrics\n",
    "import math\n",
    "mse=sklearn.metrics.mean_squared_error(sr_test.loc[:,['Radiation']],predictions)\n",
    "rmse=math.sqrt(mse)\n",
    "print(rmse)\n",
    "\n"
   ]
  },
  {
   "cell_type": "code",
   "execution_count": 78,
   "id": "1c8f874f",
   "metadata": {},
   "outputs": [
    {
     "data": {
      "text/html": [
       "<div>\n",
       "<style scoped>\n",
       "    .dataframe tbody tr th:only-of-type {\n",
       "        vertical-align: middle;\n",
       "    }\n",
       "\n",
       "    .dataframe tbody tr th {\n",
       "        vertical-align: top;\n",
       "    }\n",
       "\n",
       "    .dataframe thead th {\n",
       "        text-align: right;\n",
       "    }\n",
       "</style>\n",
       "<table border=\"1\" class=\"dataframe\">\n",
       "  <thead>\n",
       "    <tr style=\"text-align: right;\">\n",
       "      <th></th>\n",
       "      <th>Radiation</th>\n",
       "      <th>Temperature</th>\n",
       "      <th>Pressure</th>\n",
       "    </tr>\n",
       "    <tr>\n",
       "      <th>Date_modified</th>\n",
       "      <th></th>\n",
       "      <th></th>\n",
       "      <th></th>\n",
       "    </tr>\n",
       "  </thead>\n",
       "  <tbody>\n",
       "    <tr>\n",
       "      <th>2016-09-29</th>\n",
       "      <td>6.160</td>\n",
       "      <td>51.0</td>\n",
       "      <td>30.44</td>\n",
       "    </tr>\n",
       "    <tr>\n",
       "      <th>2016-09-28</th>\n",
       "      <td>6.815</td>\n",
       "      <td>53.0</td>\n",
       "      <td>30.39</td>\n",
       "    </tr>\n",
       "    <tr>\n",
       "      <th>2016-09-27</th>\n",
       "      <td>8.450</td>\n",
       "      <td>52.0</td>\n",
       "      <td>30.38</td>\n",
       "    </tr>\n",
       "    <tr>\n",
       "      <th>2016-09-26</th>\n",
       "      <td>1.260</td>\n",
       "      <td>49.0</td>\n",
       "      <td>30.42</td>\n",
       "    </tr>\n",
       "    <tr>\n",
       "      <th>2016-09-25</th>\n",
       "      <td>10.445</td>\n",
       "      <td>51.0</td>\n",
       "      <td>30.46</td>\n",
       "    </tr>\n",
       "  </tbody>\n",
       "</table>\n",
       "</div>"
      ],
      "text/plain": [
       "               Radiation  Temperature  Pressure\n",
       "Date_modified                                  \n",
       "2016-09-29         6.160         51.0     30.44\n",
       "2016-09-28         6.815         53.0     30.39\n",
       "2016-09-27         8.450         52.0     30.38\n",
       "2016-09-26         1.260         49.0     30.42\n",
       "2016-09-25        10.445         51.0     30.46"
      ]
     },
     "execution_count": 78,
     "metadata": {},
     "output_type": "execute_result"
    }
   ],
   "source": [
    "d1.head()"
   ]
  },
  {
   "cell_type": "code",
   "execution_count": 79,
   "id": "f567f826",
   "metadata": {},
   "outputs": [
    {
     "name": "stderr",
     "output_type": "stream",
     "text": [
      "C:\\Users\\ABC\\anaconda3\\lib\\site-packages\\statsmodels\\tsa\\base\\tsa_model.py:581: ValueWarning: A date index has been provided, but it has no associated frequency information and so will be ignored when e.g. forecasting.\n",
      "  warnings.warn('A date index has been provided, but it has no'\n",
      "C:\\Users\\ABC\\anaconda3\\lib\\site-packages\\statsmodels\\tsa\\base\\tsa_model.py:585: ValueWarning: A date index has been provided, but it is not monotonic and so will be ignored when e.g. forecasting.\n",
      "  warnings.warn('A date index has been provided, but it is not'\n"
     ]
    }
   ],
   "source": [
    "model = VAR(sr_train[1:])"
   ]
  },
  {
   "cell_type": "code",
   "execution_count": 80,
   "id": "cd5d35ad",
   "metadata": {},
   "outputs": [
    {
     "name": "stdout",
     "output_type": "stream",
     "text": [
      " VAR Order Selection (* highlights the minimums)  \n",
      "==================================================\n",
      "       AIC         BIC         FPE         HQIC   \n",
      "--------------------------------------------------\n",
      "0       -3.372      -3.279     0.03434      -3.334\n",
      "1       -5.382      -5.011    0.004599      -5.234\n",
      "2      -5.921*     -5.272*   0.002687*     -5.662*\n",
      "3       -5.724      -4.797    0.003282      -5.354\n",
      "4       -5.660      -4.455    0.003518      -5.179\n",
      "5       -5.503      -4.020    0.004158      -4.911\n",
      "6       -5.379      -3.618    0.004771      -4.676\n",
      "7       -5.276      -3.236    0.005395      -4.461\n",
      "8       -5.070      -2.753    0.006801      -4.145\n",
      "9       -4.881      -2.285    0.008508      -3.844\n",
      "10      -4.864      -1.991    0.009035      -3.717\n",
      "11      -4.686      -1.534     0.01142      -3.427\n",
      "12      -4.737      -1.307     0.01163      -3.367\n",
      "13      -4.897      -1.190     0.01079      -3.417\n",
      "14      -4.811     -0.8247     0.01309      -3.219\n",
      "15      -4.756     -0.4918     0.01576      -3.053\n",
      "16      -4.912     -0.3698     0.01583      -3.098\n",
      "17      -4.953     -0.1322     0.01856      -3.028\n",
      "18      -5.221     -0.1226     0.01821      -3.185\n",
      "19      -5.613     -0.2365     0.01688      -3.466\n",
      "20      -5.754    -0.09925     0.02208      -3.496\n",
      "--------------------------------------------------\n"
     ]
    }
   ],
   "source": [
    "sorted_order=model.select_order(maxlags=20)\n",
    "print(sorted_order.summary())"
   ]
  },
  {
   "cell_type": "code",
   "execution_count": 81,
   "id": "5e718c6d",
   "metadata": {},
   "outputs": [
    {
     "name": "stderr",
     "output_type": "stream",
     "text": [
      "C:\\Users\\ABC\\anaconda3\\lib\\site-packages\\statsmodels\\tsa\\statespace\\varmax.py:161: EstimationWarning: Estimation of VARMA(p,q) models is not generically robust, due especially to identification issues.\n",
      "  warn('Estimation of VARMA(p,q) models is not generically robust,'\n",
      "C:\\Users\\ABC\\anaconda3\\lib\\site-packages\\statsmodels\\tsa\\base\\tsa_model.py:581: ValueWarning: A date index has been provided, but it has no associated frequency information and so will be ignored when e.g. forecasting.\n",
      "  warnings.warn('A date index has been provided, but it has no'\n",
      "C:\\Users\\ABC\\anaconda3\\lib\\site-packages\\statsmodels\\tsa\\base\\tsa_model.py:585: ValueWarning: A date index has been provided, but it is not monotonic and so will be ignored when e.g. forecasting.\n",
      "  warnings.warn('A date index has been provided, but it is not'\n"
     ]
    },
    {
     "name": "stdout",
     "output_type": "stream",
     "text": [
      "                                Statespace Model Results                                \n",
      "========================================================================================\n",
      "Dep. Variable:     ['Radiation', 'Temperature']   No. Observations:                   96\n",
      "Model:                              VARMAX(1,1)   Log Likelihood                -373.317\n",
      "                                    + intercept   AIC                            776.634\n",
      "Date:                          Fri, 24 Dec 2021   BIC                            815.099\n",
      "Time:                                  14:52:46   HQIC                           792.182\n",
      "Sample:                                       0                                         \n",
      "                                           - 96                                         \n",
      "Covariance Type:                            opg                                         \n",
      "===================================================================================\n",
      "Ljung-Box (L1) (Q):             2.03, 0.26   Jarque-Bera (JB):          20.77, 1.89\n",
      "Prob(Q):                        0.15, 0.61   Prob(JB):                   0.00, 0.39\n",
      "Heteroskedasticity (H):         0.02, 1.59   Skew:                      -0.17, 0.34\n",
      "Prob(H) (two-sided):            0.00, 0.19   Kurtosis:                   5.25, 3.02\n",
      "                            Results for equation Radiation                           \n",
      "=====================================================================================\n",
      "                        coef    std err          z      P>|z|      [0.025      0.975]\n",
      "-------------------------------------------------------------------------------------\n",
      "intercept            40.2900     75.112      0.536      0.592    -106.928     187.508\n",
      "L1.Radiation          0.8864      0.102      8.677      0.000       0.686       1.087\n",
      "L1.Temperature        0.0991      0.124      0.802      0.423      -0.143       0.341\n",
      "L1.e(Radiation)      -0.6246      0.209     -2.991      0.003      -1.034      -0.215\n",
      "L1.e(Temperature)    -0.1090      0.232     -0.471      0.638      -0.563       0.345\n",
      "beta.Pressure        -1.4758      2.591     -0.570      0.569      -6.555       3.603\n",
      "                           Results for equation Temperature                          \n",
      "=====================================================================================\n",
      "                        coef    std err          z      P>|z|      [0.025      0.975]\n",
      "-------------------------------------------------------------------------------------\n",
      "intercept          -283.2954    140.308     -2.019      0.043    -558.293      -8.297\n",
      "L1.Radiation          0.3043      0.221      1.378      0.168      -0.129       0.737\n",
      "L1.Temperature        0.3818      0.159      2.399      0.016       0.070       0.694\n",
      "L1.e(Radiation)      -0.0227      0.229     -0.099      0.921      -0.472       0.426\n",
      "L1.e(Temperature)     0.1588      0.188      0.843      0.399      -0.210       0.528\n",
      "beta.Pressure        10.2976      4.714      2.184      0.029       1.058      19.537\n",
      "                                     Error covariance matrix                                      \n",
      "==================================================================================================\n",
      "                                     coef    std err          z      P>|z|      [0.025      0.975]\n",
      "--------------------------------------------------------------------------------------------------\n",
      "sqrt.var.Radiation                 1.5816      0.112     14.163      0.000       1.363       1.800\n",
      "sqrt.cov.Radiation.Temperature     1.0184      0.197      5.169      0.000       0.632       1.405\n",
      "sqrt.var.Temperature               1.5644      0.119     13.109      0.000       1.330       1.798\n",
      "==================================================================================================\n",
      "\n",
      "Warnings:\n",
      "[1] Covariance matrix calculated using the outer product of gradients (complex-step).\n"
     ]
    },
    {
     "name": "stderr",
     "output_type": "stream",
     "text": [
      "C:\\Users\\ABC\\anaconda3\\lib\\site-packages\\statsmodels\\base\\model.py:566: ConvergenceWarning: Maximum Likelihood optimization failed to converge. Check mle_retvals\n",
      "  warnings.warn(\"Maximum Likelihood optimization failed to \"\n"
     ]
    }
   ],
   "source": [
    "from statsmodels.tsa.statespace.varmax import VARMAX\n",
    "endog=sr_train.drop(['Pressure'],axis=1)\n",
    "exog=sr_train.drop(['Radiation','Temperature'],axis=1)\n",
    "var_model = VARMAX(endog,exog=exog,order=(1,1))\n",
    "fitted_model = var_model.fit(disp=False)\n",
    "print(fitted_model.summary())"
   ]
  },
  {
   "cell_type": "code",
   "execution_count": 86,
   "id": "2006ccf1",
   "metadata": {},
   "outputs": [
    {
     "name": "stderr",
     "output_type": "stream",
     "text": [
      "C:\\Users\\ABC\\anaconda3\\lib\\site-packages\\statsmodels\\tsa\\statespace\\varmax.py:161: EstimationWarning: Estimation of VARMA(p,q) models is not generically robust, due especially to identification issues.\n",
      "  warn('Estimation of VARMA(p,q) models is not generically robust,'\n",
      "C:\\Users\\ABC\\anaconda3\\lib\\site-packages\\statsmodels\\tsa\\base\\tsa_model.py:376: ValueWarning: No supported index is available. Prediction results will be given with an integer index beginning at `start`.\n",
      "  warnings.warn('No supported index is available.'\n",
      "C:\\Users\\ABC\\anaconda3\\lib\\site-packages\\statsmodels\\tsa\\statespace\\varmax.py:161: EstimationWarning: Estimation of VARMA(p,q) models is not generically robust, due especially to identification issues.\n",
      "  warn('Estimation of VARMA(p,q) models is not generically robust,'\n"
     ]
    },
    {
     "data": {
      "text/html": [
       "<div>\n",
       "<style scoped>\n",
       "    .dataframe tbody tr th:only-of-type {\n",
       "        vertical-align: middle;\n",
       "    }\n",
       "\n",
       "    .dataframe tbody tr th {\n",
       "        vertical-align: top;\n",
       "    }\n",
       "\n",
       "    .dataframe thead th {\n",
       "        text-align: right;\n",
       "    }\n",
       "</style>\n",
       "<table border=\"1\" class=\"dataframe\">\n",
       "  <thead>\n",
       "    <tr style=\"text-align: right;\">\n",
       "      <th></th>\n",
       "      <th>Radiation</th>\n",
       "      <th>Temperature</th>\n",
       "    </tr>\n",
       "  </thead>\n",
       "  <tbody>\n",
       "    <tr>\n",
       "      <th>96</th>\n",
       "      <td>1.632809</td>\n",
       "      <td>46.299477</td>\n",
       "    </tr>\n",
       "    <tr>\n",
       "      <th>97</th>\n",
       "      <td>1.607871</td>\n",
       "      <td>46.895785</td>\n",
       "    </tr>\n",
       "    <tr>\n",
       "      <th>98</th>\n",
       "      <td>1.571071</td>\n",
       "      <td>47.630741</td>\n",
       "    </tr>\n",
       "    <tr>\n",
       "      <th>99</th>\n",
       "      <td>1.552257</td>\n",
       "      <td>48.312046</td>\n",
       "    </tr>\n",
       "    <tr>\n",
       "      <th>100</th>\n",
       "      <td>1.588343</td>\n",
       "      <td>48.669411</td>\n",
       "    </tr>\n",
       "    <tr>\n",
       "      <th>101</th>\n",
       "      <td>1.670502</td>\n",
       "      <td>48.713852</td>\n",
       "    </tr>\n",
       "    <tr>\n",
       "      <th>102</th>\n",
       "      <td>1.762487</td>\n",
       "      <td>48.652841</td>\n",
       "    </tr>\n",
       "    <tr>\n",
       "      <th>103</th>\n",
       "      <td>1.897005</td>\n",
       "      <td>48.245631</td>\n",
       "    </tr>\n",
       "    <tr>\n",
       "      <th>104</th>\n",
       "      <td>1.961121</td>\n",
       "      <td>48.234069</td>\n",
       "    </tr>\n",
       "    <tr>\n",
       "      <th>105</th>\n",
       "      <td>2.061081</td>\n",
       "      <td>47.940235</td>\n",
       "    </tr>\n",
       "    <tr>\n",
       "      <th>106</th>\n",
       "      <td>2.046768</td>\n",
       "      <td>48.373348</td>\n",
       "    </tr>\n",
       "    <tr>\n",
       "      <th>107</th>\n",
       "      <td>2.017972</td>\n",
       "      <td>48.946255</td>\n",
       "    </tr>\n",
       "  </tbody>\n",
       "</table>\n",
       "</div>"
      ],
      "text/plain": [
       "     Radiation  Temperature\n",
       "96    1.632809    46.299477\n",
       "97    1.607871    46.895785\n",
       "98    1.571071    47.630741\n",
       "99    1.552257    48.312046\n",
       "100   1.588343    48.669411\n",
       "101   1.670502    48.713852\n",
       "102   1.762487    48.652841\n",
       "103   1.897005    48.245631\n",
       "104   1.961121    48.234069\n",
       "105   2.061081    47.940235\n",
       "106   2.046768    48.373348\n",
       "107   2.017972    48.946255"
      ]
     },
     "execution_count": 86,
     "metadata": {},
     "output_type": "execute_result"
    }
   ],
   "source": [
    "yhat = fitted_model.forecast(steps=len(sr_test),exog=sr_test['Pressure'])\n",
    "df=pd.DataFrame(yhat)\n",
    "df"
   ]
  },
  {
   "cell_type": "code",
   "execution_count": 87,
   "id": "a635af30",
   "metadata": {},
   "outputs": [
    {
     "data": {
      "text/html": [
       "<div>\n",
       "<style scoped>\n",
       "    .dataframe tbody tr th:only-of-type {\n",
       "        vertical-align: middle;\n",
       "    }\n",
       "\n",
       "    .dataframe tbody tr th {\n",
       "        vertical-align: top;\n",
       "    }\n",
       "\n",
       "    .dataframe thead th {\n",
       "        text-align: right;\n",
       "    }\n",
       "</style>\n",
       "<table border=\"1\" class=\"dataframe\">\n",
       "  <thead>\n",
       "    <tr style=\"text-align: right;\">\n",
       "      <th></th>\n",
       "      <th>Radiation_predicted</th>\n",
       "      <th>Temperature_predicted</th>\n",
       "    </tr>\n",
       "  </thead>\n",
       "  <tbody>\n",
       "    <tr>\n",
       "      <th>96</th>\n",
       "      <td>1.632809</td>\n",
       "      <td>46.299477</td>\n",
       "    </tr>\n",
       "    <tr>\n",
       "      <th>97</th>\n",
       "      <td>1.607871</td>\n",
       "      <td>46.895785</td>\n",
       "    </tr>\n",
       "    <tr>\n",
       "      <th>98</th>\n",
       "      <td>1.571071</td>\n",
       "      <td>47.630741</td>\n",
       "    </tr>\n",
       "    <tr>\n",
       "      <th>99</th>\n",
       "      <td>1.552257</td>\n",
       "      <td>48.312046</td>\n",
       "    </tr>\n",
       "    <tr>\n",
       "      <th>100</th>\n",
       "      <td>1.588343</td>\n",
       "      <td>48.669411</td>\n",
       "    </tr>\n",
       "    <tr>\n",
       "      <th>101</th>\n",
       "      <td>1.670502</td>\n",
       "      <td>48.713852</td>\n",
       "    </tr>\n",
       "    <tr>\n",
       "      <th>102</th>\n",
       "      <td>1.762487</td>\n",
       "      <td>48.652841</td>\n",
       "    </tr>\n",
       "    <tr>\n",
       "      <th>103</th>\n",
       "      <td>1.897005</td>\n",
       "      <td>48.245631</td>\n",
       "    </tr>\n",
       "    <tr>\n",
       "      <th>104</th>\n",
       "      <td>1.961121</td>\n",
       "      <td>48.234069</td>\n",
       "    </tr>\n",
       "    <tr>\n",
       "      <th>105</th>\n",
       "      <td>2.061081</td>\n",
       "      <td>47.940235</td>\n",
       "    </tr>\n",
       "    <tr>\n",
       "      <th>106</th>\n",
       "      <td>2.046768</td>\n",
       "      <td>48.373348</td>\n",
       "    </tr>\n",
       "    <tr>\n",
       "      <th>107</th>\n",
       "      <td>2.017972</td>\n",
       "      <td>48.946255</td>\n",
       "    </tr>\n",
       "  </tbody>\n",
       "</table>\n",
       "</div>"
      ],
      "text/plain": [
       "     Radiation_predicted  Temperature_predicted\n",
       "96              1.632809              46.299477\n",
       "97              1.607871              46.895785\n",
       "98              1.571071              47.630741\n",
       "99              1.552257              48.312046\n",
       "100             1.588343              48.669411\n",
       "101             1.670502              48.713852\n",
       "102             1.762487              48.652841\n",
       "103             1.897005              48.245631\n",
       "104             1.961121              48.234069\n",
       "105             2.061081              47.940235\n",
       "106             2.046768              48.373348\n",
       "107             2.017972              48.946255"
      ]
     },
     "execution_count": 87,
     "metadata": {},
     "output_type": "execute_result"
    }
   ],
   "source": [
    "df.columns=['Radiation_predicted','Temperature_predicted']\n",
    "df"
   ]
  },
  {
   "cell_type": "code",
   "execution_count": 88,
   "id": "855f8c38",
   "metadata": {
    "scrolled": true
   },
   "outputs": [
    {
     "data": {
      "text/html": [
       "<div>\n",
       "<style scoped>\n",
       "    .dataframe tbody tr th:only-of-type {\n",
       "        vertical-align: middle;\n",
       "    }\n",
       "\n",
       "    .dataframe tbody tr th {\n",
       "        vertical-align: top;\n",
       "    }\n",
       "\n",
       "    .dataframe thead th {\n",
       "        text-align: right;\n",
       "    }\n",
       "</style>\n",
       "<table border=\"1\" class=\"dataframe\">\n",
       "  <thead>\n",
       "    <tr style=\"text-align: right;\">\n",
       "      <th></th>\n",
       "      <th>Radiation_predicted</th>\n",
       "      <th>Temperature_predicted</th>\n",
       "    </tr>\n",
       "    <tr>\n",
       "      <th>Date_m</th>\n",
       "      <th></th>\n",
       "      <th></th>\n",
       "    </tr>\n",
       "  </thead>\n",
       "  <tbody>\n",
       "    <tr>\n",
       "      <th>2016-12-14</th>\n",
       "      <td>1.632809</td>\n",
       "      <td>46.299477</td>\n",
       "    </tr>\n",
       "    <tr>\n",
       "      <th>2016-12-13</th>\n",
       "      <td>1.607871</td>\n",
       "      <td>46.895785</td>\n",
       "    </tr>\n",
       "    <tr>\n",
       "      <th>2016-12-12</th>\n",
       "      <td>1.571071</td>\n",
       "      <td>47.630741</td>\n",
       "    </tr>\n",
       "    <tr>\n",
       "      <th>2016-12-11</th>\n",
       "      <td>1.552257</td>\n",
       "      <td>48.312046</td>\n",
       "    </tr>\n",
       "    <tr>\n",
       "      <th>2016-12-10</th>\n",
       "      <td>1.588343</td>\n",
       "      <td>48.669411</td>\n",
       "    </tr>\n",
       "    <tr>\n",
       "      <th>2016-12-09</th>\n",
       "      <td>1.670502</td>\n",
       "      <td>48.713852</td>\n",
       "    </tr>\n",
       "    <tr>\n",
       "      <th>2016-12-08</th>\n",
       "      <td>1.762487</td>\n",
       "      <td>48.652841</td>\n",
       "    </tr>\n",
       "    <tr>\n",
       "      <th>2016-12-05</th>\n",
       "      <td>1.897005</td>\n",
       "      <td>48.245631</td>\n",
       "    </tr>\n",
       "    <tr>\n",
       "      <th>2016-12-04</th>\n",
       "      <td>1.961121</td>\n",
       "      <td>48.234069</td>\n",
       "    </tr>\n",
       "    <tr>\n",
       "      <th>2016-12-03</th>\n",
       "      <td>2.061081</td>\n",
       "      <td>47.940235</td>\n",
       "    </tr>\n",
       "    <tr>\n",
       "      <th>2016-12-02</th>\n",
       "      <td>2.046768</td>\n",
       "      <td>48.373348</td>\n",
       "    </tr>\n",
       "    <tr>\n",
       "      <th>2016-12-01</th>\n",
       "      <td>2.017972</td>\n",
       "      <td>48.946255</td>\n",
       "    </tr>\n",
       "  </tbody>\n",
       "</table>\n",
       "</div>"
      ],
      "text/plain": [
       "            Radiation_predicted  Temperature_predicted\n",
       "Date_m                                                \n",
       "2016-12-14             1.632809              46.299477\n",
       "2016-12-13             1.607871              46.895785\n",
       "2016-12-12             1.571071              47.630741\n",
       "2016-12-11             1.552257              48.312046\n",
       "2016-12-10             1.588343              48.669411\n",
       "2016-12-09             1.670502              48.713852\n",
       "2016-12-08             1.762487              48.652841\n",
       "2016-12-05             1.897005              48.245631\n",
       "2016-12-04             1.961121              48.234069\n",
       "2016-12-03             2.061081              47.940235\n",
       "2016-12-02             2.046768              48.373348\n",
       "2016-12-01             2.017972              48.946255"
      ]
     },
     "execution_count": 88,
     "metadata": {},
     "output_type": "execute_result"
    }
   ],
   "source": [
    "l2=list(sr_test.index)\n",
    "df['Date_m']=l2\n",
    "df=df.set_index('Date_m')\n",
    "df"
   ]
  },
  {
   "cell_type": "code",
   "execution_count": 89,
   "id": "dc489ed0",
   "metadata": {},
   "outputs": [],
   "source": [
    "test_vs_pred=pd.concat([sr_test.drop('Pressure',axis=1),df],axis=1)"
   ]
  },
  {
   "cell_type": "code",
   "execution_count": 90,
   "id": "414f02cb",
   "metadata": {},
   "outputs": [
    {
     "data": {
      "text/plain": [
       "<AxesSubplot:>"
      ]
     },
     "execution_count": 90,
     "metadata": {},
     "output_type": "execute_result"
    },
    {
     "data": {
      "image/png": "[encoded data removed]",
      "text/plain": [
       "<Figure size 864x360 with 1 Axes>"
      ]
     },
     "metadata": {
      "needs_background": "light"
     },
     "output_type": "display_data"
    }
   ],
   "source": [
    "test_vs_pred.plot(figsize=(12,5))"
   ]
  },
  {
   "cell_type": "code",
   "execution_count": 100,
   "id": "dd7c334d",
   "metadata": {},
   "outputs": [
    {
     "name": "stdout",
     "output_type": "stream",
     "text": [
      "Mean value of Radiation is : 1.9625000000000001. Root Mean Squared Error is :1.521368906482173\n"
     ]
    }
   ],
   "source": [
    "from sklearn.metrics import mean_squared_error\n",
    "import math \n",
    "from statistics import mean\n",
    "\n",
    "rmse_radiation=math.sqrt(mean_squared_error(df['Radiation_predicted'],sr_test['Radiation']))\n",
    "print('Mean value of Radiation is : {}. Root Mean Squared Error is :{}'.format(mean(sr_test['Radiation']),rmse_radiation))"
   ]
  },
  {
   "cell_type": "code",
   "execution_count": null,
   "id": "7a3f5ca9",
   "metadata": {},
   "outputs": [],
   "source": []
  }
 ],
 "metadata": {
  "kernelspec": {
   "display_name": "Python 3",
   "language": "python",
   "name": "python3"
  },
  "language_info": {
   "codemirror_mode": {
    "name": "ipython",
    "version": 3
   },
   "file_extension": ".py",
   "mimetype": "text/x-python",
   "name": "python",
   "nbconvert_exporter": "python",
   "pygments_lexer": "ipython3",
   "version": "3.8.8"
  }
 },
 "nbformat": 4,
 "nbformat_minor": 5
}
