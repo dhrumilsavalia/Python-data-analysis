{
 "cells": [
  {
   "cell_type": "markdown",
   "metadata": {},
   "source": [
    "# Assignment 1\n",
    "# You all are pilots, you want land a plane safely, so WAP to take current altitiude as input and check whether the altitude is less than 1000 ft or more than 1000 ft and if its less than 5000 ft ask the pilot to bring it further down to 1000 ft and if its more than 5000 ft then ask pilot to turn around and atrempt later"
   ]
  },
  {
   "cell_type": "code",
   "execution_count": 8,
   "metadata": {},
   "outputs": [
    {
     "name": "stdout",
     "output_type": "stream",
     "text": [
      "Enter the altitude:6500\n",
      "Turn around and attempt later\n"
     ]
    }
   ],
   "source": [
    "num=input(\"Enter the altitude:\")\n",
    "num=int(num)\n",
    "if num<1000:\n",
    "  print(\"Safe to land\")\n",
    "elif num<5000:\n",
    "  print(\"Bring down to 1000\")\n",
    "else:\n",
    "  print(\"Turn around and attempt later\")"
   ]
  },
  {
   "cell_type": "markdown",
   "metadata": {},
   "source": [
    "# Assignment 2\n",
    "# Using for loop print all prime numbers between 1-200 using FOR loop and RANGE function "
   ]
  },
  {
   "cell_type": "code",
   "execution_count": 15,
   "metadata": {},
   "outputs": [
    {
     "name": "stdout",
     "output_type": "stream",
     "text": [
      "2\n",
      "3\n",
      "5\n",
      "7\n",
      "11\n",
      "13\n",
      "17\n",
      "19\n",
      "23\n",
      "29\n",
      "31\n",
      "37\n",
      "41\n",
      "43\n",
      "47\n",
      "53\n",
      "59\n",
      "61\n",
      "67\n",
      "71\n",
      "73\n",
      "79\n",
      "83\n",
      "89\n",
      "97\n",
      "101\n",
      "103\n",
      "107\n",
      "109\n",
      "113\n",
      "127\n",
      "131\n",
      "137\n",
      "139\n",
      "149\n",
      "151\n",
      "157\n",
      "163\n",
      "167\n",
      "173\n",
      "179\n",
      "181\n",
      "191\n",
      "193\n",
      "197\n",
      "199\n",
      "These are the prime numbers from 1-200\n"
     ]
    }
   ],
   "source": [
    "for num in range(1,200):\n",
    "    if num>1:\n",
    "        for i in range(2,num):\n",
    "            if num%i==0:\n",
    "                break\n",
    "        else:\n",
    "          print(num)\n",
    "else:\n",
    "  print(\"These are the prime numbers from 1-200\")"
   ]
  },
  {
   "cell_type": "code",
   "execution_count": null,
   "metadata": {},
   "outputs": [],
   "source": []
  }
 ],
 "metadata": {
  "kernelspec": {
   "display_name": "Python 3",
   "language": "python",
   "name": "python3"
  },
  "language_info": {
   "codemirror_mode": {
    "name": "ipython",
    "version": 3
   },
   "file_extension": ".py",
   "mimetype": "text/x-python",
   "name": "python",
   "nbconvert_exporter": "python",
   "pygments_lexer": "ipython3",
   "version": "3.8.3"
  }
 },
 "nbformat": 4,
 "nbformat_minor": 4
}
