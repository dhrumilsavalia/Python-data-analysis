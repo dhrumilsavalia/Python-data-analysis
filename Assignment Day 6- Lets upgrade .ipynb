{
 "cells": [
  {
   "cell_type": "markdown",
   "metadata": {},
   "source": [
    "Day 6-Assignment 1 create a bank account class that has two attributes i.e owner name and balance and two methods i.e deposit and withdraw. As an added requirement,withdrawals may not exceed the available balance.Instantiate your class, make several deposits and wihtdrawals and test to make sure that the account can't be withdrawn.  "
   ]
  },
  {
   "cell_type": "code",
   "execution_count": 16,
   "metadata": {},
   "outputs": [],
   "source": [
    "class bank_account():\n",
    "    def __init__(self,owner_name,balance):\n",
    "        self.owner_name=owner_name\n",
    "        self.balance=balance\n",
    "    def deposit(self,dep):\n",
    "        if dep>0:\n",
    "            self.balance+=dep\n",
    "            print(\" Mr. {} After depositing {} amount your balance is {}\".format(self.owner_name,dep,self.balance))\n",
    "    def withdrawal(self,wit):\n",
    "        if wit<self.balance or wit==self.balance:\n",
    "            self.balance-=wit\n",
    "            if self.balance==0:\n",
    "                print(\"You have withdrawn all balance, you can't withdraw now\")\n",
    "            else:\n",
    "                print(\" Mr. {} You have withdrawn {} amount and now your balance is {}\".format(self.owner_name,wit,self.balance))"
   ]
  },
  {
   "cell_type": "code",
   "execution_count": 17,
   "metadata": {},
   "outputs": [
    {
     "name": "stdout",
     "output_type": "stream",
     "text": [
      " Mr. Dhrumil Savalia After depositing 30000 amount your balance is 130000\n"
     ]
    }
   ],
   "source": [
    "bank=bank_account(\"Dhrumil Savalia\",100000)\n",
    "bank.deposit(30000)"
   ]
  },
  {
   "cell_type": "code",
   "execution_count": 18,
   "metadata": {},
   "outputs": [
    {
     "name": "stdout",
     "output_type": "stream",
     "text": [
      " Mr. Dhrumil Savalia You have withdrawn 13000 amount and now your balance is 117000\n"
     ]
    }
   ],
   "source": [
    "bank.withdrawal(13000)"
   ]
  },
  {
   "cell_type": "code",
   "execution_count": 19,
   "metadata": {},
   "outputs": [
    {
     "name": "stdout",
     "output_type": "stream",
     "text": [
      "You have withdrawn all balance, you can't withdraw now\n"
     ]
    }
   ],
   "source": [
    "bank.withdrawal(117000)"
   ]
  },
  {
   "cell_type": "code",
   "execution_count": 20,
   "metadata": {},
   "outputs": [
    {
     "name": "stdout",
     "output_type": "stream",
     "text": [
      " Mr. Dhrumil Savalia After depositing 100000 amount your balance is 100000\n"
     ]
    }
   ],
   "source": [
    "bank.deposit(100000)"
   ]
  },
  {
   "cell_type": "markdown",
   "metadata": {},
   "source": [
    "Day 6-Assignment 2- Create a cone class that has two attributes: R=radius and h=height and two methods: Volume=1/3*pie*r2*h and surface area base: pie * r2 and side: pie * r * root of(r2+h2)"
   ]
  },
  {
   "cell_type": "code",
   "execution_count": 21,
   "metadata": {},
   "outputs": [],
   "source": [
    "import math\n",
    "class cone():\n",
    "    def __init__(self,r,h):\n",
    "        self.r=r\n",
    "        self.h=h\n",
    "    def volume(self):\n",
    "        vol=math.pi*(self.r)**2*(self.h)\n",
    "        print(\"Volume of the cone is {}\".format(vol))\n",
    "    def surface_area(self):\n",
    "        base=math.pi*(self.r)**2\n",
    "        side=math.pi*(self.r)*math.sqrt((self.r)**2+(self.h)**2)\n",
    "        print(\"Base of the cone is {} and side of the cone is {}\".format(base,side))"
   ]
  },
  {
   "cell_type": "code",
   "execution_count": 23,
   "metadata": {},
   "outputs": [
    {
     "name": "stdout",
     "output_type": "stream",
     "text": [
      "Volume of the cone is 235.61944901923448\n"
     ]
    }
   ],
   "source": [
    "cone_details=cone(5,3)\n",
    "cone_details.volume()"
   ]
  },
  {
   "cell_type": "code",
   "execution_count": 24,
   "metadata": {},
   "outputs": [
    {
     "name": "stdout",
     "output_type": "stream",
     "text": [
      "Base of the cone is 78.53981633974483 and side of the cone is 91.5923781814074\n"
     ]
    }
   ],
   "source": [
    "cone_details.surface_area()"
   ]
  },
  {
   "cell_type": "code",
   "execution_count": null,
   "metadata": {},
   "outputs": [],
   "source": []
  }
 ],
 "metadata": {
  "kernelspec": {
   "display_name": "Python 3",
   "language": "python",
   "name": "python3"
  },
  "language_info": {
   "codemirror_mode": {
    "name": "ipython",
    "version": 3
   },
   "file_extension": ".py",
   "mimetype": "text/x-python",
   "name": "python",
   "nbconvert_exporter": "python",
   "pygments_lexer": "ipython3",
   "version": "3.8.3"
  }
 },
 "nbformat": 4,
 "nbformat_minor": 4
}
