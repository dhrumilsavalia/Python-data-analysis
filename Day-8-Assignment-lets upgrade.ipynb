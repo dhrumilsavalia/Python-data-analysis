{
 "cells": [
  {
   "cell_type": "markdown",
   "metadata": {},
   "source": [
    "# Day8-Assignment 1\n",
    "Write a decorator function for your taking input for you any kind of function you want to build.Lets do this for a fibbonaci series function"
   ]
  },
  {
   "cell_type": "code",
   "execution_count": null,
   "metadata": {},
   "outputs": [],
   "source": [
    "def getinput(range_function):\n",
    "    def any_function():\n",
    "        print(\"Enter the range:\")\n",
    "        x=int(input(\"Enter the lower limit:\"))\n",
    "        y=int(input(\"Enter the upper limit:\"))\n",
    "        range_function(x,y)\n",
    "    return any_function"
   ]
  },
  {
   "cell_type": "code",
   "execution_count": null,
   "metadata": {},
   "outputs": [],
   "source": [
    "import math\n",
    "def check_perfect_square(n):\n",
    "    d=int(math.sqrt(n))\n",
    "    if d**2==n:\n",
    "        return True\n",
    "    else:\n",
    "        return False"
   ]
  },
  {
   "cell_type": "code",
   "execution_count": null,
   "metadata": {},
   "outputs": [],
   "source": [
    "def check_fibonacci(x):\n",
    "    t1=(5*x*x)+4\n",
    "    t2=(5*x*x)-4\n",
    "    if check_perfect_square(t1) or check_perfect_square(t2):\n",
    "        return True\n",
    "    else:\n",
    "        return False"
   ]
  },
  {
   "cell_type": "code",
   "execution_count": null,
   "metadata": {},
   "outputs": [],
   "source": [
    "@getinput\n",
    "def fibonacci_range(a,b):\n",
    "    for i in range(a,b):\n",
    "        if check_fibonacci(i)==True:\n",
    "            print(i)\n",
    "        "
   ]
  },
  {
   "cell_type": "code",
   "execution_count": null,
   "metadata": {},
   "outputs": [],
   "source": [
    "check_perfect_square(55)"
   ]
  },
  {
   "cell_type": "code",
   "execution_count": null,
   "metadata": {},
   "outputs": [],
   "source": [
    "fibonacci_range()"
   ]
  },
  {
   "cell_type": "markdown",
   "metadata": {},
   "source": [
    "# Day8-Assignment 2 \n",
    "For this challenge you need to develop a python program to open a file in read only mode and try writing something to it and handle the subsequent errors"
   ]
  },
  {
   "cell_type": "code",
   "execution_count": 1,
   "metadata": {},
   "outputs": [],
   "source": [
    "file=open(\"haphazardfile.txt\",\"w\")\n",
    "file.write(\"Lets start writing this file\")\n",
    "file.close()"
   ]
  },
  {
   "cell_type": "code",
   "execution_count": 2,
   "metadata": {},
   "outputs": [
    {
     "name": "stdout",
     "output_type": "stream",
     "text": [
      "Lets start writing this file\n"
     ]
    }
   ],
   "source": [
    "file=open(\"haphazardfile.txt\",\"r\")\n",
    "print(file.read())"
   ]
  },
  {
   "cell_type": "code",
   "execution_count": 3,
   "metadata": {},
   "outputs": [],
   "source": [
    "file=open(\"haphazardfile.txt\",\"a\")\n",
    "file.write(\"\\n what should be more added to this file\")\n",
    "file.close()"
   ]
  },
  {
   "cell_type": "code",
   "execution_count": 4,
   "metadata": {},
   "outputs": [
    {
     "name": "stdout",
     "output_type": "stream",
     "text": [
      "Lets start writing this file\n",
      " what should be more added to this file\n"
     ]
    }
   ],
   "source": [
    "file=open(\"haphazardfile.txt\",\"r\")\n",
    "print(file.read())"
   ]
  },
  {
   "cell_type": "code",
   "execution_count": 9,
   "metadata": {},
   "outputs": [
    {
     "name": "stdout",
     "output_type": "stream",
     "text": [
      "This file is readable not writable \n"
     ]
    }
   ],
   "source": [
    "file=open(\"haphazardfile.txt\",\"r\")\n",
    "try:\n",
    "    file.write(\"Lets add something!\")\n",
    "except:\n",
    "    print(\"This file is readable not writable \")\n",
    "finally:\n",
    "    file.close()"
   ]
  },
  {
   "cell_type": "code",
   "execution_count": 10,
   "metadata": {},
   "outputs": [
    {
     "name": "stdout",
     "output_type": "stream",
     "text": [
      "Lets start writing this file\n",
      " what should be more added to this file\n"
     ]
    }
   ],
   "source": [
    "file=open(\"haphazardfile.txt\",\"r\")\n",
    "print(file.read())"
   ]
  },
  {
   "cell_type": "code",
   "execution_count": null,
   "metadata": {},
   "outputs": [],
   "source": []
  }
 ],
 "metadata": {
  "kernelspec": {
   "display_name": "Python 3",
   "language": "python",
   "name": "python3"
  },
  "language_info": {
   "codemirror_mode": {
    "name": "ipython",
    "version": 3
   },
   "file_extension": ".py",
   "mimetype": "text/x-python",
   "name": "python",
   "nbconvert_exporter": "python",
   "pygments_lexer": "ipython3",
   "version": "3.8.3"
  }
 },
 "nbformat": 4,
 "nbformat_minor": 4
}
